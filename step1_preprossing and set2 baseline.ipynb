{
 "cells": [
  {
   "cell_type": "code",
   "execution_count": 1,
   "metadata": {},
   "outputs": [
    {
     "name": "stderr",
     "output_type": "stream",
     "text": [
      "<ipython-input-1-4196427013a1>:6: FutureWarning: The pandas.datetime class is deprecated and will be removed from pandas in a future version. Import from datetime module instead.\n",
      "  from pandas import Series, datetime\n"
     ]
    },
    {
     "data": {
      "text/html": [
       "        <script type=\"text/javascript\">\n",
       "        window.PlotlyConfig = {MathJaxConfig: 'local'};\n",
       "        if (window.MathJax) {MathJax.Hub.Config({SVG: {font: \"STIX-Web\"}});}\n",
       "        if (typeof require !== 'undefined') {\n",
       "        require.undef(\"plotly\");\n",
       "        requirejs.config({\n",
       "            paths: {\n",
       "                'plotly': ['https://cdn.plot.ly/plotly-2.4.2.min']\n",
       "            }\n",
       "        });\n",
       "        require(['plotly'], function(Plotly) {\n",
       "            window._Plotly = Plotly;\n",
       "        });\n",
       "        }\n",
       "        </script>\n",
       "        "
      ]
     },
     "metadata": {},
     "output_type": "display_data"
    }
   ],
   "source": [
    "# 导入需要使用的包\n",
    "import pandas as pd\n",
    "import numpy as np\n",
    "import warnings\n",
    "from matplotlib import pyplot\n",
    "from pandas import Series, datetime\n",
    "from sklearn.preprocessing import StandardScaler\n",
    "from sklearn.model_selection import train_test_split, KFold, cross_val_score, GridSearchCV, TimeSeriesSplit\n",
    "from sklearn.metrics import classification_report, confusion_matrix, accuracy_score, mean_squared_error\n",
    "from sklearn.pipeline import Pipeline\n",
    "from sklearn.linear_model import LogisticRegression\n",
    "from sklearn.tree import DecisionTreeClassifier\n",
    "from sklearn.neighbors import KNeighborsClassifier\n",
    "from sklearn.discriminant_analysis import LinearDiscriminantAnalysis\n",
    "from sklearn.naive_bayes import GaussianNB\n",
    "from sklearn.svm import SVC\n",
    "from sklearn.ensemble import AdaBoostClassifier, GradientBoostingClassifier, RandomForestClassifier, ExtraTreesClassifier\n",
    "from sklearn.metrics import roc_curve, auc\n",
    "import matplotlib.pyplot as plt\n",
    "import random\n",
    "from statsmodels.graphics.tsaplots import plot_acf, plot_pacf\n",
    "from statsmodels.tsa.arima_model import ARIMA\n",
    "from xgboost import XGBClassifier\n",
    "import seaborn as sns\n",
    "from sklearn.model_selection import GridSearchCV\n",
    "from sklearn.model_selection import StratifiedKFold\n",
    "from sklearn.preprocessing import LabelEncoder\n",
    "%matplotlib inline\n",
    "import plotly.offline as py\n",
    "py.init_notebook_mode(connected=True)\n",
    "import plotly.graph_objs as go\n",
    "import plotly.tools as tls\n",
    "import warnings\n",
    "import matplotlib.pyplot as plt\n",
    "from sklearn.decomposition import PCA"
   ]
  },
  {
   "cell_type": "markdown",
   "metadata": {},
   "source": [
    "# 1 数据预处理"
   ]
  },
  {
   "cell_type": "markdown",
   "metadata": {},
   "source": [
    "## 1.1 文本数据"
   ]
  },
  {
   "cell_type": "markdown",
   "metadata": {},
   "source": [
    "##  1.1.1 数据清洗"
   ]
  },
  {
   "cell_type": "code",
   "execution_count": null,
   "metadata": {},
   "outputs": [],
   "source": [
    "df_text = pd.read_csv('sentence_emotion_analyse/combined_stock_data.csv',parse_dates=['Date'])"
   ]
  },
  {
   "cell_type": "code",
   "execution_count": null,
   "metadata": {},
   "outputs": [],
   "source": [
    "df_text = df_text[list(df_text.columns[:28])]"
   ]
  },
  {
   "cell_type": "code",
   "execution_count": null,
   "metadata": {},
   "outputs": [],
   "source": [
    "df_text['Headlines'] = np.nan\n",
    "for i in range(len(df_text)):\n",
    "    df_text['Headlines'][i]=' '.join(str(x) for x in df_text.iloc[i,2:])"
   ]
  },
  {
   "cell_type": "code",
   "execution_count": null,
   "metadata": {},
   "outputs": [],
   "source": [
    "df_text = df_text[['Date','Label','Headlines']]\n",
    "df_text.head()[:2]"
   ]
  },
  {
   "cell_type": "markdown",
   "metadata": {},
   "source": [
    "替换缩写 简写"
   ]
  },
  {
   "cell_type": "code",
   "execution_count": null,
   "metadata": {},
   "outputs": [],
   "source": [
    "import re\n",
    "def find_abbr(text):\n",
    "    abbr = []\n",
    "    for i in re.finditer(r\"([A-Za-z]+| )([A-Za-z]\\.){2,}\", text):\n",
    "        abbr.append(i.group())\n",
    "    df_abbr = pd.Series(abbr)\n",
    "    return df_abbr.unique()"
   ]
  },
  {
   "cell_type": "code",
   "execution_count": null,
   "metadata": {},
   "outputs": [],
   "source": [
    "news_comb = ' '.join(df_text.Headlines)\n",
    "abbr = find_abbr(news_comb)"
   ]
  },
  {
   "cell_type": "code",
   "execution_count": null,
   "metadata": {},
   "outputs": [],
   "source": [
    "abbr"
   ]
  },
  {
   "cell_type": "code",
   "execution_count": null,
   "metadata": {},
   "outputs": [],
   "source": [
    "for i in range(len(df_text)):\n",
    "    text = str(df_text.Headlines[i])\n",
    "    text = re.sub(r\"A.T.M.\", \" Automated Teller Machine \", text)\n",
    "    text = re.sub(r\"C.I.A.\", \" Central Intelligence Agency \", text)\n",
    "    text = re.sub(r\"D.C.\", \" District of columbia \", text)\n",
    "    text = re.sub(r\"E.U.\", \" Europian Union \", text)\n",
    "    text = re.sub(r\"F.B.I.\", \" Federal Bureau of Investigation \", text)\n",
    "    text = re.sub(r\"H.I.V.\", \" Human immunodeficiency virus \", text)\n",
    "    text = re.sub(r\"I.H.T.\", \" inheritance tax \", text)\n",
    "    text = re.sub(r\"I.M.F.\", \" International Monetary Fund \", text)\n",
    "    text = re.sub(r\"I.D.\", \" identification \", text)\n",
    "    text = re.sub(r\"L.G.B.T.\", \" minority \", text)\n",
    "    text = re.sub(r\"M.A.\", \" Massachusetts \", text)\n",
    "    text = re.sub(r\"N.J.\", \" new jersey \", text)\n",
    "    text = re.sub(r\"N.K.\", \" north korea \", text)\n",
    "    text = re.sub(r\"N.S.A.\", \" National Security Agency \", text)\n",
    "    text = re.sub(r\"N.Y.\", \" new york \", text)\n",
    "    text = re.sub(r\"P.E.I.\", \" Prince Edward Island \", text)\n",
    "    text = re.sub(r\"P.M.\", \" prime minister \", text)\n",
    "    text = re.sub(r\"P.R.C\", \" china \", text)\n",
    "    text = re.sub(r\"S.A.\", \" south africa \", text)\n",
    "    text = re.sub(r\"R.I.\", \" Rhode Island \", text)\n",
    "    text = re.sub(r\"U.A.E.\", \" United Arab Emirates \", text)\n",
    "    text = re.sub(r\"U.K.\", \" england \", text)\n",
    "    text = re.sub(r\"U.N.\", \" New Jersey \", text)\n",
    "    text = re.sub(r\"U.S.\", \" America \", text)\n",
    "    text = re.sub(r\"U.S.C.\", \" University of south california \", text)\n",
    "    text = re.sub(r\"W.H.O\", \" world health organization \", text)\n",
    "    text = re.sub(r\"a.m.\", \" morning \", text)\n",
    "    text = re.sub(r\"p.m.\", \" afternoon \", text)\n",
    "    text = re.sub(r\"Ph.D.\", \" doctor of philosophy \", text)\n",
    "    text = re.sub(r\"sq.m.\", \" square meter \", text)\n",
    "    text = re.sub(r\"sq.m.\", \" square meter \", text)\n",
    "\n",
    "    df_text.Headlines[i] = text"
   ]
  },
  {
   "cell_type": "code",
   "execution_count": null,
   "metadata": {},
   "outputs": [],
   "source": [
    "news_comb = ' '.join(df_text.Headlines)\n",
    "abbr = find_abbr(news_comb)"
   ]
  },
  {
   "cell_type": "code",
   "execution_count": null,
   "metadata": {},
   "outputs": [],
   "source": [
    "from nltk.stem import PorterStemmer\n",
    "from nltk.corpus import stopwords\n",
    "from nltk.stem import WordNetLemmatizer\n",
    "import nltk"
   ]
  },
  {
   "cell_type": "code",
   "execution_count": null,
   "metadata": {},
   "outputs": [],
   "source": [
    "ps = PorterStemmer()\n",
    "wl = WordNetLemmatizer()\n",
    "corpus = []"
   ]
  },
  {
   "cell_type": "markdown",
   "metadata": {},
   "source": [
    "删除非字母字符和单字母单词，包括数字和标点符号   \n",
    "删除停用词"
   ]
  },
  {
   "cell_type": "code",
   "execution_count": null,
   "metadata": {
    "scrolled": true
   },
   "outputs": [],
   "source": [
    "df_text['headlines_str'] = np.nan\n",
    "for i in range(len(df_text.Headlines)):\n",
    "    df_text.headlines_str[i] = df_text.Headlines[i].lower()\n",
    "    df_text.headlines_str[i] = re.sub(\"[^a-zA-z]\",\" \",df_text.headlines_str[i])\n",
    "    words = nltk.word_tokenize(df_text.headlines_str[i])\n",
    "    words = [wl.lemmatize(word) for word in words if word not in set(stopwords.words('english'))]\n",
    "    df_text.headlines_str[i]=' '.join(words)"
   ]
  },
  {
   "cell_type": "markdown",
   "metadata": {},
   "source": [
    "## 1.1.2 embedding"
   ]
  },
  {
   "cell_type": "code",
   "execution_count": null,
   "metadata": {},
   "outputs": [],
   "source": [
    "df_text['headlines_words'] = [df_text.headlines_str[i].split() for i in range(len(df_text))]"
   ]
  },
  {
   "cell_type": "code",
   "execution_count": null,
   "metadata": {},
   "outputs": [],
   "source": [
    "df_text.head()"
   ]
  },
  {
   "cell_type": "code",
   "execution_count": null,
   "metadata": {},
   "outputs": [],
   "source": [
    "from gensim.models import Word2Vec\n",
    "import gensim"
   ]
  },
  {
   "cell_type": "code",
   "execution_count": null,
   "metadata": {},
   "outputs": [],
   "source": [
    "model = gensim.models.KeyedVectors.load_word2vec_format(r'E:/File/coding/MLDL_learning/dataset/english-embedding/GoogleNews-vectors-negative300.bin.gz', binary=True)"
   ]
  },
  {
   "cell_type": "code",
   "execution_count": null,
   "metadata": {},
   "outputs": [],
   "source": [
    "def doc2vec(model, wordlist):\n",
    "    vector_list = [model[word] for word in wordlist if word in model]\n",
    "    doc_vector = np.mean(vector_list, axis=0)\n",
    "    return doc_vector"
   ]
  },
  {
   "cell_type": "code",
   "execution_count": null,
   "metadata": {},
   "outputs": [],
   "source": [
    "df_text['word2vec'] = [doc2vec(model, doc) for doc in df_text.headlines_words]  "
   ]
  },
  {
   "cell_type": "code",
   "execution_count": null,
   "metadata": {},
   "outputs": [],
   "source": [
    "df_text.head()"
   ]
  },
  {
   "cell_type": "code",
   "execution_count": null,
   "metadata": {},
   "outputs": [],
   "source": [
    "# 保存起来 下次直接读取就可以，不必每次都跑\n",
    "df_text.to_pickle(\"./preprocessed_df.pkl\")"
   ]
  },
  {
   "cell_type": "markdown",
   "metadata": {},
   "source": [
    "直接读取保存的中间数据就可以"
   ]
  },
  {
   "cell_type": "code",
   "execution_count": 2,
   "metadata": {},
   "outputs": [],
   "source": [
    "import pickle\n",
    "from sklearn.feature_extraction.text import CountVectorizer\n",
    "from sklearn.feature_extraction.text import TfidfVectorizer\n",
    "from sklearn.metrics import classification_report, confusion_matrix"
   ]
  },
  {
   "cell_type": "code",
   "execution_count": 3,
   "metadata": {},
   "outputs": [],
   "source": [
    "df = pd.read_pickle(r'preprocessed_df.pkl')"
   ]
  },
  {
   "cell_type": "code",
   "execution_count": 4,
   "metadata": {},
   "outputs": [],
   "source": [
    "# 不需要标题了，因为已经汇总\n",
    "df = df.drop('Headlines',axis=1)"
   ]
  },
  {
   "cell_type": "code",
   "execution_count": 5,
   "metadata": {},
   "outputs": [
    {
     "name": "stdout",
     "output_type": "stream",
     "text": [
      "(1989, 5)\n",
      "Date               datetime64[ns]\n",
      "Label                       int64\n",
      "headlines_str              object\n",
      "headlines_words            object\n",
      "word2vec                   object\n",
      "dtype: object\n"
     ]
    }
   ],
   "source": [
    "# 数据类型\n",
    "print(df.shape)\n",
    "print(df.dtypes)"
   ]
  },
  {
   "cell_type": "markdown",
   "metadata": {},
   "source": [
    "##  1.2 股票数据"
   ]
  },
  {
   "cell_type": "code",
   "execution_count": 6,
   "metadata": {},
   "outputs": [
    {
     "data": {
      "text/html": [
       "<div>\n",
       "<style scoped>\n",
       "    .dataframe tbody tr th:only-of-type {\n",
       "        vertical-align: middle;\n",
       "    }\n",
       "\n",
       "    .dataframe tbody tr th {\n",
       "        vertical-align: top;\n",
       "    }\n",
       "\n",
       "    .dataframe thead th {\n",
       "        text-align: right;\n",
       "    }\n",
       "</style>\n",
       "<table border=\"1\" class=\"dataframe\">\n",
       "  <thead>\n",
       "    <tr style=\"text-align: right;\">\n",
       "      <th></th>\n",
       "      <th>Date</th>\n",
       "      <th>Open</th>\n",
       "      <th>High</th>\n",
       "      <th>Low</th>\n",
       "      <th>Close</th>\n",
       "      <th>Volume</th>\n",
       "      <th>Adj Close</th>\n",
       "    </tr>\n",
       "  </thead>\n",
       "  <tbody>\n",
       "    <tr>\n",
       "      <th>0</th>\n",
       "      <td>2016-07-01</td>\n",
       "      <td>17924.240234</td>\n",
       "      <td>18002.380859</td>\n",
       "      <td>17916.910156</td>\n",
       "      <td>17949.369141</td>\n",
       "      <td>82160000</td>\n",
       "      <td>17949.369141</td>\n",
       "    </tr>\n",
       "    <tr>\n",
       "      <th>1</th>\n",
       "      <td>2016-06-30</td>\n",
       "      <td>17712.759766</td>\n",
       "      <td>17930.609375</td>\n",
       "      <td>17711.800781</td>\n",
       "      <td>17929.990234</td>\n",
       "      <td>133030000</td>\n",
       "      <td>17929.990234</td>\n",
       "    </tr>\n",
       "    <tr>\n",
       "      <th>2</th>\n",
       "      <td>2016-06-29</td>\n",
       "      <td>17456.019531</td>\n",
       "      <td>17704.509766</td>\n",
       "      <td>17456.019531</td>\n",
       "      <td>17694.679688</td>\n",
       "      <td>106380000</td>\n",
       "      <td>17694.679688</td>\n",
       "    </tr>\n",
       "    <tr>\n",
       "      <th>3</th>\n",
       "      <td>2016-06-28</td>\n",
       "      <td>17190.509766</td>\n",
       "      <td>17409.720703</td>\n",
       "      <td>17190.509766</td>\n",
       "      <td>17409.720703</td>\n",
       "      <td>112190000</td>\n",
       "      <td>17409.720703</td>\n",
       "    </tr>\n",
       "    <tr>\n",
       "      <th>4</th>\n",
       "      <td>2016-06-27</td>\n",
       "      <td>17355.210938</td>\n",
       "      <td>17355.210938</td>\n",
       "      <td>17063.080078</td>\n",
       "      <td>17140.240234</td>\n",
       "      <td>138740000</td>\n",
       "      <td>17140.240234</td>\n",
       "    </tr>\n",
       "  </tbody>\n",
       "</table>\n",
       "</div>"
      ],
      "text/plain": [
       "        Date          Open          High           Low         Close  \\\n",
       "0 2016-07-01  17924.240234  18002.380859  17916.910156  17949.369141   \n",
       "1 2016-06-30  17712.759766  17930.609375  17711.800781  17929.990234   \n",
       "2 2016-06-29  17456.019531  17704.509766  17456.019531  17694.679688   \n",
       "3 2016-06-28  17190.509766  17409.720703  17190.509766  17409.720703   \n",
       "4 2016-06-27  17355.210938  17355.210938  17063.080078  17140.240234   \n",
       "\n",
       "      Volume     Adj Close  \n",
       "0   82160000  17949.369141  \n",
       "1  133030000  17929.990234  \n",
       "2  106380000  17694.679688  \n",
       "3  112190000  17409.720703  \n",
       "4  138740000  17140.240234  "
      ]
     },
     "execution_count": 6,
     "metadata": {},
     "output_type": "execute_result"
    }
   ],
   "source": [
    "# 价格序列\n",
    "stock_prices = \"sentence_emotion_analyse/stocknews/DJIA_table.csv\"\n",
    "stock_data = pd.read_csv(stock_prices, parse_dates=[0])\n",
    "stock_data.head()"
   ]
  },
  {
   "cell_type": "code",
   "execution_count": 7,
   "metadata": {
    "scrolled": true
   },
   "outputs": [
    {
     "name": "stdout",
     "output_type": "stream",
     "text": [
      "(1989, 7)\n",
      "Date         datetime64[ns]\n",
      "Open                float64\n",
      "High                float64\n",
      "Low                 float64\n",
      "Close               float64\n",
      "Volume                int64\n",
      "Adj Close           float64\n",
      "dtype: object\n"
     ]
    }
   ],
   "source": [
    "# 数据类型\n",
    "print(stock_data.shape)\n",
    "print(stock_data.dtypes)"
   ]
  },
  {
   "cell_type": "markdown",
   "metadata": {},
   "source": [
    "## 1.3 合并数据"
   ]
  },
  {
   "cell_type": "code",
   "execution_count": 8,
   "metadata": {},
   "outputs": [
    {
     "name": "stdout",
     "output_type": "stream",
     "text": [
      "(1989, 11)\n"
     ]
    },
    {
     "data": {
      "text/html": [
       "<div>\n",
       "<style scoped>\n",
       "    .dataframe tbody tr th:only-of-type {\n",
       "        vertical-align: middle;\n",
       "    }\n",
       "\n",
       "    .dataframe tbody tr th {\n",
       "        vertical-align: top;\n",
       "    }\n",
       "\n",
       "    .dataframe thead th {\n",
       "        text-align: right;\n",
       "    }\n",
       "</style>\n",
       "<table border=\"1\" class=\"dataframe\">\n",
       "  <thead>\n",
       "    <tr style=\"text-align: right;\">\n",
       "      <th></th>\n",
       "      <th>Date</th>\n",
       "      <th>Label</th>\n",
       "      <th>headlines_str</th>\n",
       "      <th>headlines_words</th>\n",
       "      <th>word2vec</th>\n",
       "      <th>Open</th>\n",
       "      <th>High</th>\n",
       "      <th>Low</th>\n",
       "      <th>Close</th>\n",
       "      <th>Volume</th>\n",
       "      <th>Adj Close</th>\n",
       "    </tr>\n",
       "  </thead>\n",
       "  <tbody>\n",
       "    <tr>\n",
       "      <th>1988</th>\n",
       "      <td>2008-08-08</td>\n",
       "      <td>0</td>\n",
       "      <td>b georgia down two russian warplane country mo...</td>\n",
       "      <td>[b, georgia, down, two, russian, warplane, cou...</td>\n",
       "      <td>[-0.030426025, 0.042169377, 0.043114804, 0.110...</td>\n",
       "      <td>11432.089844</td>\n",
       "      <td>11759.959961</td>\n",
       "      <td>11388.040039</td>\n",
       "      <td>11734.320312</td>\n",
       "      <td>212830000</td>\n",
       "      <td>11734.320312</td>\n",
       "    </tr>\n",
       "    <tr>\n",
       "      <th>1987</th>\n",
       "      <td>2008-08-11</td>\n",
       "      <td>1</td>\n",
       "      <td>b wont america nato help u wont help u help ir...</td>\n",
       "      <td>[b, wont, america, nato, help, u, wont, help, ...</td>\n",
       "      <td>[-0.04963903, 0.029282805, 0.061783727, 0.1101...</td>\n",
       "      <td>11729.669922</td>\n",
       "      <td>11867.110352</td>\n",
       "      <td>11675.530273</td>\n",
       "      <td>11782.349609</td>\n",
       "      <td>183190000</td>\n",
       "      <td>11782.349609</td>\n",
       "    </tr>\n",
       "    <tr>\n",
       "      <th>1986</th>\n",
       "      <td>2008-08-12</td>\n",
       "      <td>0</td>\n",
       "      <td>b remember adorable year old sang opening cere...</td>\n",
       "      <td>[b, remember, adorable, year, old, sang, openi...</td>\n",
       "      <td>[-0.017341351, 0.051923424, 0.051041078, 0.108...</td>\n",
       "      <td>11781.700195</td>\n",
       "      <td>11782.349609</td>\n",
       "      <td>11601.519531</td>\n",
       "      <td>11642.469727</td>\n",
       "      <td>173590000</td>\n",
       "      <td>11642.469727</td>\n",
       "    </tr>\n",
       "    <tr>\n",
       "      <th>1985</th>\n",
       "      <td>2008-08-13</td>\n",
       "      <td>0</td>\n",
       "      <td>b america refuse israel weapon attack iran rep...</td>\n",
       "      <td>[b, america, refuse, israel, weapon, attack, i...</td>\n",
       "      <td>[-0.025739402, 0.040334575, 0.071311414, 0.098...</td>\n",
       "      <td>11632.809570</td>\n",
       "      <td>11633.780273</td>\n",
       "      <td>11453.339844</td>\n",
       "      <td>11532.959961</td>\n",
       "      <td>182550000</td>\n",
       "      <td>11532.959961</td>\n",
       "    </tr>\n",
       "    <tr>\n",
       "      <th>1984</th>\n",
       "      <td>2008-08-14</td>\n",
       "      <td>1</td>\n",
       "      <td>b expert morning legalise drug b war south ose...</td>\n",
       "      <td>[b, expert, morning, legalise, drug, b, war, s...</td>\n",
       "      <td>[-0.020019358, 0.043589104, 0.06413258, 0.1148...</td>\n",
       "      <td>11532.070312</td>\n",
       "      <td>11718.280273</td>\n",
       "      <td>11450.889648</td>\n",
       "      <td>11615.929688</td>\n",
       "      <td>159790000</td>\n",
       "      <td>11615.929688</td>\n",
       "    </tr>\n",
       "  </tbody>\n",
       "</table>\n",
       "</div>"
      ],
      "text/plain": [
       "           Date  Label                                      headlines_str  \\\n",
       "1988 2008-08-08      0  b georgia down two russian warplane country mo...   \n",
       "1987 2008-08-11      1  b wont america nato help u wont help u help ir...   \n",
       "1986 2008-08-12      0  b remember adorable year old sang opening cere...   \n",
       "1985 2008-08-13      0  b america refuse israel weapon attack iran rep...   \n",
       "1984 2008-08-14      1  b expert morning legalise drug b war south ose...   \n",
       "\n",
       "                                        headlines_words  \\\n",
       "1988  [b, georgia, down, two, russian, warplane, cou...   \n",
       "1987  [b, wont, america, nato, help, u, wont, help, ...   \n",
       "1986  [b, remember, adorable, year, old, sang, openi...   \n",
       "1985  [b, america, refuse, israel, weapon, attack, i...   \n",
       "1984  [b, expert, morning, legalise, drug, b, war, s...   \n",
       "\n",
       "                                               word2vec          Open  \\\n",
       "1988  [-0.030426025, 0.042169377, 0.043114804, 0.110...  11432.089844   \n",
       "1987  [-0.04963903, 0.029282805, 0.061783727, 0.1101...  11729.669922   \n",
       "1986  [-0.017341351, 0.051923424, 0.051041078, 0.108...  11781.700195   \n",
       "1985  [-0.025739402, 0.040334575, 0.071311414, 0.098...  11632.809570   \n",
       "1984  [-0.020019358, 0.043589104, 0.06413258, 0.1148...  11532.070312   \n",
       "\n",
       "              High           Low         Close     Volume     Adj Close  \n",
       "1988  11759.959961  11388.040039  11734.320312  212830000  11734.320312  \n",
       "1987  11867.110352  11675.530273  11782.349609  183190000  11782.349609  \n",
       "1986  11782.349609  11601.519531  11642.469727  173590000  11642.469727  \n",
       "1985  11633.780273  11453.339844  11532.959961  182550000  11532.959961  \n",
       "1984  11718.280273  11450.889648  11615.929688  159790000  11615.929688  "
      ]
     },
     "execution_count": 8,
     "metadata": {},
     "output_type": "execute_result"
    }
   ],
   "source": [
    "# 合并标题和股票价格\n",
    "merged_dataframe = df.merge(stock_data, how='inner', on='Date', left_index=True)\n",
    "print(merged_dataframe.shape)\n",
    "merged_dataframe.head()"
   ]
  },
  {
   "cell_type": "code",
   "execution_count": 9,
   "metadata": {},
   "outputs": [
    {
     "name": "stdout",
     "output_type": "stream",
     "text": [
      "(1989, 17)\n"
     ]
    },
    {
     "data": {
      "text/html": [
       "<div>\n",
       "<style scoped>\n",
       "    .dataframe tbody tr th:only-of-type {\n",
       "        vertical-align: middle;\n",
       "    }\n",
       "\n",
       "    .dataframe tbody tr th {\n",
       "        vertical-align: top;\n",
       "    }\n",
       "\n",
       "    .dataframe thead th {\n",
       "        text-align: right;\n",
       "    }\n",
       "</style>\n",
       "<table border=\"1\" class=\"dataframe\">\n",
       "  <thead>\n",
       "    <tr style=\"text-align: right;\">\n",
       "      <th></th>\n",
       "      <th>Date</th>\n",
       "      <th>Label</th>\n",
       "      <th>headlines_str</th>\n",
       "      <th>headlines_words</th>\n",
       "      <th>word2vec</th>\n",
       "      <th>Open</th>\n",
       "      <th>High</th>\n",
       "      <th>Low</th>\n",
       "      <th>Close</th>\n",
       "      <th>Volume</th>\n",
       "      <th>Adj Close</th>\n",
       "      <th>Para</th>\n",
       "      <th>Subjectivity</th>\n",
       "      <th>Objectivity</th>\n",
       "      <th>Positive</th>\n",
       "      <th>Neutral</th>\n",
       "      <th>Negative</th>\n",
       "    </tr>\n",
       "  </thead>\n",
       "  <tbody>\n",
       "    <tr>\n",
       "      <th>0</th>\n",
       "      <td>2008-08-08</td>\n",
       "      <td>0</td>\n",
       "      <td>b georgia down two russian warplane country mo...</td>\n",
       "      <td>[b, georgia, down, two, russian, warplane, cou...</td>\n",
       "      <td>[-0.030426025, 0.042169377, 0.043114804, 0.110...</td>\n",
       "      <td>11432.089844</td>\n",
       "      <td>11759.959961</td>\n",
       "      <td>11388.040039</td>\n",
       "      <td>11734.320312</td>\n",
       "      <td>212830000</td>\n",
       "      <td>11734.320312</td>\n",
       "      <td>b\"Georgia 'downs two Russian warplanes' as cou...</td>\n",
       "      <td>85.714286</td>\n",
       "      <td>14.285714</td>\n",
       "      <td>21.428571</td>\n",
       "      <td>14.285714</td>\n",
       "      <td>64.285714</td>\n",
       "    </tr>\n",
       "    <tr>\n",
       "      <th>1</th>\n",
       "      <td>2008-08-11</td>\n",
       "      <td>1</td>\n",
       "      <td>b wont america nato help u wont help u help ir...</td>\n",
       "      <td>[b, wont, america, nato, help, u, wont, help, ...</td>\n",
       "      <td>[-0.04963903, 0.029282805, 0.061783727, 0.1101...</td>\n",
       "      <td>11729.669922</td>\n",
       "      <td>11867.110352</td>\n",
       "      <td>11675.530273</td>\n",
       "      <td>11782.349609</td>\n",
       "      <td>183190000</td>\n",
       "      <td>11782.349609</td>\n",
       "      <td>b'Why wont America and Nato help us? If they w...</td>\n",
       "      <td>77.777778</td>\n",
       "      <td>22.222222</td>\n",
       "      <td>33.333333</td>\n",
       "      <td>22.222222</td>\n",
       "      <td>44.444444</td>\n",
       "    </tr>\n",
       "    <tr>\n",
       "      <th>2</th>\n",
       "      <td>2008-08-12</td>\n",
       "      <td>0</td>\n",
       "      <td>b remember adorable year old sang opening cere...</td>\n",
       "      <td>[b, remember, adorable, year, old, sang, openi...</td>\n",
       "      <td>[-0.017341351, 0.051923424, 0.051041078, 0.108...</td>\n",
       "      <td>11781.700195</td>\n",
       "      <td>11782.349609</td>\n",
       "      <td>11601.519531</td>\n",
       "      <td>11642.469727</td>\n",
       "      <td>173590000</td>\n",
       "      <td>11642.469727</td>\n",
       "      <td>b'Remember that adorable 9-year-old who sang a...</td>\n",
       "      <td>53.333333</td>\n",
       "      <td>46.666667</td>\n",
       "      <td>20.000000</td>\n",
       "      <td>46.666667</td>\n",
       "      <td>33.333333</td>\n",
       "    </tr>\n",
       "    <tr>\n",
       "      <th>3</th>\n",
       "      <td>2008-08-13</td>\n",
       "      <td>0</td>\n",
       "      <td>b america refuse israel weapon attack iran rep...</td>\n",
       "      <td>[b, america, refuse, israel, weapon, attack, i...</td>\n",
       "      <td>[-0.025739402, 0.040334575, 0.071311414, 0.098...</td>\n",
       "      <td>11632.809570</td>\n",
       "      <td>11633.780273</td>\n",
       "      <td>11453.339844</td>\n",
       "      <td>11532.959961</td>\n",
       "      <td>182550000</td>\n",
       "      <td>11532.959961</td>\n",
       "      <td>b' U.S. refuses Israel weapons to attack Iran:...</td>\n",
       "      <td>40.000000</td>\n",
       "      <td>60.000000</td>\n",
       "      <td>20.000000</td>\n",
       "      <td>60.000000</td>\n",
       "      <td>20.000000</td>\n",
       "    </tr>\n",
       "    <tr>\n",
       "      <th>4</th>\n",
       "      <td>2008-08-14</td>\n",
       "      <td>1</td>\n",
       "      <td>b expert morning legalise drug b war south ose...</td>\n",
       "      <td>[b, expert, morning, legalise, drug, b, war, s...</td>\n",
       "      <td>[-0.020019358, 0.043589104, 0.06413258, 0.1148...</td>\n",
       "      <td>11532.070312</td>\n",
       "      <td>11718.280273</td>\n",
       "      <td>11450.889648</td>\n",
       "      <td>11615.929688</td>\n",
       "      <td>159790000</td>\n",
       "      <td>11615.929688</td>\n",
       "      <td>b'All the experts admit that we should legalis...</td>\n",
       "      <td>45.454545</td>\n",
       "      <td>54.545455</td>\n",
       "      <td>36.363636</td>\n",
       "      <td>54.545455</td>\n",
       "      <td>9.090909</td>\n",
       "    </tr>\n",
       "  </tbody>\n",
       "</table>\n",
       "</div>"
      ],
      "text/plain": [
       "        Date  Label                                      headlines_str  \\\n",
       "0 2008-08-08      0  b georgia down two russian warplane country mo...   \n",
       "1 2008-08-11      1  b wont america nato help u wont help u help ir...   \n",
       "2 2008-08-12      0  b remember adorable year old sang opening cere...   \n",
       "3 2008-08-13      0  b america refuse israel weapon attack iran rep...   \n",
       "4 2008-08-14      1  b expert morning legalise drug b war south ose...   \n",
       "\n",
       "                                     headlines_words  \\\n",
       "0  [b, georgia, down, two, russian, warplane, cou...   \n",
       "1  [b, wont, america, nato, help, u, wont, help, ...   \n",
       "2  [b, remember, adorable, year, old, sang, openi...   \n",
       "3  [b, america, refuse, israel, weapon, attack, i...   \n",
       "4  [b, expert, morning, legalise, drug, b, war, s...   \n",
       "\n",
       "                                            word2vec          Open  \\\n",
       "0  [-0.030426025, 0.042169377, 0.043114804, 0.110...  11432.089844   \n",
       "1  [-0.04963903, 0.029282805, 0.061783727, 0.1101...  11729.669922   \n",
       "2  [-0.017341351, 0.051923424, 0.051041078, 0.108...  11781.700195   \n",
       "3  [-0.025739402, 0.040334575, 0.071311414, 0.098...  11632.809570   \n",
       "4  [-0.020019358, 0.043589104, 0.06413258, 0.1148...  11532.070312   \n",
       "\n",
       "           High           Low         Close     Volume     Adj Close  \\\n",
       "0  11759.959961  11388.040039  11734.320312  212830000  11734.320312   \n",
       "1  11867.110352  11675.530273  11782.349609  183190000  11782.349609   \n",
       "2  11782.349609  11601.519531  11642.469727  173590000  11642.469727   \n",
       "3  11633.780273  11453.339844  11532.959961  182550000  11532.959961   \n",
       "4  11718.280273  11450.889648  11615.929688  159790000  11615.929688   \n",
       "\n",
       "                                                Para  Subjectivity  \\\n",
       "0  b\"Georgia 'downs two Russian warplanes' as cou...     85.714286   \n",
       "1  b'Why wont America and Nato help us? If they w...     77.777778   \n",
       "2  b'Remember that adorable 9-year-old who sang a...     53.333333   \n",
       "3  b' U.S. refuses Israel weapons to attack Iran:...     40.000000   \n",
       "4  b'All the experts admit that we should legalis...     45.454545   \n",
       "\n",
       "   Objectivity   Positive    Neutral   Negative  \n",
       "0    14.285714  21.428571  14.285714  64.285714  \n",
       "1    22.222222  33.333333  22.222222  44.444444  \n",
       "2    46.666667  20.000000  46.666667  33.333333  \n",
       "3    60.000000  20.000000  60.000000  20.000000  \n",
       "4    54.545455  36.363636  54.545455   9.090909  "
      ]
     },
     "execution_count": 9,
     "metadata": {},
     "output_type": "execute_result"
    }
   ],
   "source": [
    "sentiment = pd.read_csv('sentence_emotion_analyse/combined_stock_data.csv',parse_dates=['Date'])\n",
    "sentiment = sentiment[list(sentiment.columns[28:]) + ['Date']]\n",
    "merged_dataframe = merged_dataframe.merge(sentiment, how='inner', on='Date', left_index=True)\n",
    "print(merged_dataframe.shape)\n",
    "merged_dataframe.head()"
   ]
  },
  {
   "cell_type": "code",
   "execution_count": 10,
   "metadata": {
    "scrolled": true
   },
   "outputs": [
    {
     "name": "stdout",
     "output_type": "stream",
     "text": [
      "['Date', 'Label', 'headlines_str', 'headlines_words', 'word2vec', 'Open', 'High', 'Low', 'Close', 'Volume', 'Adj Close', 'Para', 'Subjectivity', 'Objectivity', 'Positive', 'Neutral', 'Negative']\n"
     ]
    },
    {
     "data": {
      "text/html": [
       "<div>\n",
       "<style scoped>\n",
       "    .dataframe tbody tr th:only-of-type {\n",
       "        vertical-align: middle;\n",
       "    }\n",
       "\n",
       "    .dataframe tbody tr th {\n",
       "        vertical-align: top;\n",
       "    }\n",
       "\n",
       "    .dataframe thead th {\n",
       "        text-align: right;\n",
       "    }\n",
       "</style>\n",
       "<table border=\"1\" class=\"dataframe\">\n",
       "  <thead>\n",
       "    <tr style=\"text-align: right;\">\n",
       "      <th></th>\n",
       "      <th>Date</th>\n",
       "      <th>headlines_str</th>\n",
       "      <th>headlines_words</th>\n",
       "      <th>word2vec</th>\n",
       "      <th>Open</th>\n",
       "      <th>High</th>\n",
       "      <th>Low</th>\n",
       "      <th>Close</th>\n",
       "      <th>Volume</th>\n",
       "      <th>Adj Close</th>\n",
       "      <th>Para</th>\n",
       "      <th>Subjectivity</th>\n",
       "      <th>Objectivity</th>\n",
       "      <th>Positive</th>\n",
       "      <th>Neutral</th>\n",
       "      <th>Negative</th>\n",
       "      <th>Label</th>\n",
       "    </tr>\n",
       "  </thead>\n",
       "  <tbody>\n",
       "    <tr>\n",
       "      <th>0</th>\n",
       "      <td>2008-08-08</td>\n",
       "      <td>b georgia down two russian warplane country mo...</td>\n",
       "      <td>[b, georgia, down, two, russian, warplane, cou...</td>\n",
       "      <td>[-0.030426025, 0.042169377, 0.043114804, 0.110...</td>\n",
       "      <td>11432.089844</td>\n",
       "      <td>11759.959961</td>\n",
       "      <td>11388.040039</td>\n",
       "      <td>11734.320312</td>\n",
       "      <td>212830000</td>\n",
       "      <td>11734.320312</td>\n",
       "      <td>b\"Georgia 'downs two Russian warplanes' as cou...</td>\n",
       "      <td>85.714286</td>\n",
       "      <td>14.285714</td>\n",
       "      <td>21.428571</td>\n",
       "      <td>14.285714</td>\n",
       "      <td>64.285714</td>\n",
       "      <td>0</td>\n",
       "    </tr>\n",
       "    <tr>\n",
       "      <th>1</th>\n",
       "      <td>2008-08-11</td>\n",
       "      <td>b wont america nato help u wont help u help ir...</td>\n",
       "      <td>[b, wont, america, nato, help, u, wont, help, ...</td>\n",
       "      <td>[-0.04963903, 0.029282805, 0.061783727, 0.1101...</td>\n",
       "      <td>11729.669922</td>\n",
       "      <td>11867.110352</td>\n",
       "      <td>11675.530273</td>\n",
       "      <td>11782.349609</td>\n",
       "      <td>183190000</td>\n",
       "      <td>11782.349609</td>\n",
       "      <td>b'Why wont America and Nato help us? If they w...</td>\n",
       "      <td>77.777778</td>\n",
       "      <td>22.222222</td>\n",
       "      <td>33.333333</td>\n",
       "      <td>22.222222</td>\n",
       "      <td>44.444444</td>\n",
       "      <td>1</td>\n",
       "    </tr>\n",
       "    <tr>\n",
       "      <th>2</th>\n",
       "      <td>2008-08-12</td>\n",
       "      <td>b remember adorable year old sang opening cere...</td>\n",
       "      <td>[b, remember, adorable, year, old, sang, openi...</td>\n",
       "      <td>[-0.017341351, 0.051923424, 0.051041078, 0.108...</td>\n",
       "      <td>11781.700195</td>\n",
       "      <td>11782.349609</td>\n",
       "      <td>11601.519531</td>\n",
       "      <td>11642.469727</td>\n",
       "      <td>173590000</td>\n",
       "      <td>11642.469727</td>\n",
       "      <td>b'Remember that adorable 9-year-old who sang a...</td>\n",
       "      <td>53.333333</td>\n",
       "      <td>46.666667</td>\n",
       "      <td>20.000000</td>\n",
       "      <td>46.666667</td>\n",
       "      <td>33.333333</td>\n",
       "      <td>0</td>\n",
       "    </tr>\n",
       "    <tr>\n",
       "      <th>3</th>\n",
       "      <td>2008-08-13</td>\n",
       "      <td>b america refuse israel weapon attack iran rep...</td>\n",
       "      <td>[b, america, refuse, israel, weapon, attack, i...</td>\n",
       "      <td>[-0.025739402, 0.040334575, 0.071311414, 0.098...</td>\n",
       "      <td>11632.809570</td>\n",
       "      <td>11633.780273</td>\n",
       "      <td>11453.339844</td>\n",
       "      <td>11532.959961</td>\n",
       "      <td>182550000</td>\n",
       "      <td>11532.959961</td>\n",
       "      <td>b' U.S. refuses Israel weapons to attack Iran:...</td>\n",
       "      <td>40.000000</td>\n",
       "      <td>60.000000</td>\n",
       "      <td>20.000000</td>\n",
       "      <td>60.000000</td>\n",
       "      <td>20.000000</td>\n",
       "      <td>0</td>\n",
       "    </tr>\n",
       "    <tr>\n",
       "      <th>4</th>\n",
       "      <td>2008-08-14</td>\n",
       "      <td>b expert morning legalise drug b war south ose...</td>\n",
       "      <td>[b, expert, morning, legalise, drug, b, war, s...</td>\n",
       "      <td>[-0.020019358, 0.043589104, 0.06413258, 0.1148...</td>\n",
       "      <td>11532.070312</td>\n",
       "      <td>11718.280273</td>\n",
       "      <td>11450.889648</td>\n",
       "      <td>11615.929688</td>\n",
       "      <td>159790000</td>\n",
       "      <td>11615.929688</td>\n",
       "      <td>b'All the experts admit that we should legalis...</td>\n",
       "      <td>45.454545</td>\n",
       "      <td>54.545455</td>\n",
       "      <td>36.363636</td>\n",
       "      <td>54.545455</td>\n",
       "      <td>9.090909</td>\n",
       "      <td>1</td>\n",
       "    </tr>\n",
       "  </tbody>\n",
       "</table>\n",
       "</div>"
      ],
      "text/plain": [
       "        Date                                      headlines_str  \\\n",
       "0 2008-08-08  b georgia down two russian warplane country mo...   \n",
       "1 2008-08-11  b wont america nato help u wont help u help ir...   \n",
       "2 2008-08-12  b remember adorable year old sang opening cere...   \n",
       "3 2008-08-13  b america refuse israel weapon attack iran rep...   \n",
       "4 2008-08-14  b expert morning legalise drug b war south ose...   \n",
       "\n",
       "                                     headlines_words  \\\n",
       "0  [b, georgia, down, two, russian, warplane, cou...   \n",
       "1  [b, wont, america, nato, help, u, wont, help, ...   \n",
       "2  [b, remember, adorable, year, old, sang, openi...   \n",
       "3  [b, america, refuse, israel, weapon, attack, i...   \n",
       "4  [b, expert, morning, legalise, drug, b, war, s...   \n",
       "\n",
       "                                            word2vec          Open  \\\n",
       "0  [-0.030426025, 0.042169377, 0.043114804, 0.110...  11432.089844   \n",
       "1  [-0.04963903, 0.029282805, 0.061783727, 0.1101...  11729.669922   \n",
       "2  [-0.017341351, 0.051923424, 0.051041078, 0.108...  11781.700195   \n",
       "3  [-0.025739402, 0.040334575, 0.071311414, 0.098...  11632.809570   \n",
       "4  [-0.020019358, 0.043589104, 0.06413258, 0.1148...  11532.070312   \n",
       "\n",
       "           High           Low         Close     Volume     Adj Close  \\\n",
       "0  11759.959961  11388.040039  11734.320312  212830000  11734.320312   \n",
       "1  11867.110352  11675.530273  11782.349609  183190000  11782.349609   \n",
       "2  11782.349609  11601.519531  11642.469727  173590000  11642.469727   \n",
       "3  11633.780273  11453.339844  11532.959961  182550000  11532.959961   \n",
       "4  11718.280273  11450.889648  11615.929688  159790000  11615.929688   \n",
       "\n",
       "                                                Para  Subjectivity  \\\n",
       "0  b\"Georgia 'downs two Russian warplanes' as cou...     85.714286   \n",
       "1  b'Why wont America and Nato help us? If they w...     77.777778   \n",
       "2  b'Remember that adorable 9-year-old who sang a...     53.333333   \n",
       "3  b' U.S. refuses Israel weapons to attack Iran:...     40.000000   \n",
       "4  b'All the experts admit that we should legalis...     45.454545   \n",
       "\n",
       "   Objectivity   Positive    Neutral   Negative  Label  \n",
       "0    14.285714  21.428571  14.285714  64.285714      0  \n",
       "1    22.222222  33.333333  22.222222  44.444444      1  \n",
       "2    46.666667  20.000000  46.666667  33.333333      0  \n",
       "3    60.000000  20.000000  60.000000  20.000000      0  \n",
       "4    54.545455  36.363636  54.545455   9.090909      1  "
      ]
     },
     "execution_count": 10,
     "metadata": {},
     "output_type": "execute_result"
    }
   ],
   "source": [
    "# 把label放在最后一列\n",
    "cols = list(merged_dataframe)\n",
    "print(cols)\n",
    "cols.append(cols.pop(cols.index('Label')))\n",
    "merged_dataframe = merged_dataframe.loc[:, cols]\n",
    "merged_dataframe.head()"
   ]
  },
  {
   "cell_type": "code",
   "execution_count": 11,
   "metadata": {},
   "outputs": [
    {
     "name": "stdout",
     "output_type": "stream",
     "text": [
      "['Date', 'headlines_str', 'headlines_words', 'word2vec', 'Open', 'High', 'Low', 'Close', 'Volume', 'Adj Close', 'Para', 'Subjectivity', 'Objectivity', 'Positive', 'Neutral', 'Negative', 'Label']\n"
     ]
    },
    {
     "data": {
      "text/html": [
       "<div>\n",
       "<style scoped>\n",
       "    .dataframe tbody tr th:only-of-type {\n",
       "        vertical-align: middle;\n",
       "    }\n",
       "\n",
       "    .dataframe tbody tr th {\n",
       "        vertical-align: top;\n",
       "    }\n",
       "\n",
       "    .dataframe thead th {\n",
       "        text-align: right;\n",
       "    }\n",
       "</style>\n",
       "<table border=\"1\" class=\"dataframe\">\n",
       "  <thead>\n",
       "    <tr style=\"text-align: right;\">\n",
       "      <th></th>\n",
       "      <th>Date</th>\n",
       "      <th>headlines_str</th>\n",
       "      <th>headlines_words</th>\n",
       "      <th>word2vec</th>\n",
       "      <th>Open</th>\n",
       "      <th>High</th>\n",
       "      <th>Low</th>\n",
       "      <th>Close</th>\n",
       "      <th>Volume</th>\n",
       "      <th>Adj Close</th>\n",
       "      <th>Para</th>\n",
       "      <th>Subjectivity</th>\n",
       "      <th>Objectivity</th>\n",
       "      <th>Positive</th>\n",
       "      <th>Neutral</th>\n",
       "      <th>Negative</th>\n",
       "      <th>Label</th>\n",
       "    </tr>\n",
       "  </thead>\n",
       "  <tbody>\n",
       "    <tr>\n",
       "      <th>0</th>\n",
       "      <td>2008-08-08</td>\n",
       "      <td>b georgia down two russian warplane country mo...</td>\n",
       "      <td>[b, georgia, down, two, russian, warplane, cou...</td>\n",
       "      <td>[-0.030426025, 0.042169377, 0.043114804, 0.110...</td>\n",
       "      <td>11432.089844</td>\n",
       "      <td>11759.959961</td>\n",
       "      <td>11388.040039</td>\n",
       "      <td>11734.320312</td>\n",
       "      <td>212830000.0</td>\n",
       "      <td>11734.320312</td>\n",
       "      <td>b\"Georgia 'downs two Russian warplanes' as cou...</td>\n",
       "      <td>85.714286</td>\n",
       "      <td>14.285714</td>\n",
       "      <td>21.428571</td>\n",
       "      <td>14.285714</td>\n",
       "      <td>64.285714</td>\n",
       "      <td>0</td>\n",
       "    </tr>\n",
       "    <tr>\n",
       "      <th>1</th>\n",
       "      <td>2008-08-11</td>\n",
       "      <td>b wont america nato help u wont help u help ir...</td>\n",
       "      <td>[b, wont, america, nato, help, u, wont, help, ...</td>\n",
       "      <td>[-0.04963903, 0.029282805, 0.061783727, 0.1101...</td>\n",
       "      <td>11729.669922</td>\n",
       "      <td>11867.110352</td>\n",
       "      <td>11675.530273</td>\n",
       "      <td>11782.349609</td>\n",
       "      <td>183190000.0</td>\n",
       "      <td>11782.349609</td>\n",
       "      <td>b'Why wont America and Nato help us? If they w...</td>\n",
       "      <td>77.777778</td>\n",
       "      <td>22.222222</td>\n",
       "      <td>33.333333</td>\n",
       "      <td>22.222222</td>\n",
       "      <td>44.444444</td>\n",
       "      <td>1</td>\n",
       "    </tr>\n",
       "    <tr>\n",
       "      <th>2</th>\n",
       "      <td>2008-08-12</td>\n",
       "      <td>b remember adorable year old sang opening cere...</td>\n",
       "      <td>[b, remember, adorable, year, old, sang, openi...</td>\n",
       "      <td>[-0.017341351, 0.051923424, 0.051041078, 0.108...</td>\n",
       "      <td>11781.700195</td>\n",
       "      <td>11782.349609</td>\n",
       "      <td>11601.519531</td>\n",
       "      <td>11642.469727</td>\n",
       "      <td>173590000.0</td>\n",
       "      <td>11642.469727</td>\n",
       "      <td>b'Remember that adorable 9-year-old who sang a...</td>\n",
       "      <td>53.333333</td>\n",
       "      <td>46.666667</td>\n",
       "      <td>20.000000</td>\n",
       "      <td>46.666667</td>\n",
       "      <td>33.333333</td>\n",
       "      <td>0</td>\n",
       "    </tr>\n",
       "    <tr>\n",
       "      <th>3</th>\n",
       "      <td>2008-08-13</td>\n",
       "      <td>b america refuse israel weapon attack iran rep...</td>\n",
       "      <td>[b, america, refuse, israel, weapon, attack, i...</td>\n",
       "      <td>[-0.025739402, 0.040334575, 0.071311414, 0.098...</td>\n",
       "      <td>11632.809570</td>\n",
       "      <td>11633.780273</td>\n",
       "      <td>11453.339844</td>\n",
       "      <td>11532.959961</td>\n",
       "      <td>182550000.0</td>\n",
       "      <td>11532.959961</td>\n",
       "      <td>b' U.S. refuses Israel weapons to attack Iran:...</td>\n",
       "      <td>40.000000</td>\n",
       "      <td>60.000000</td>\n",
       "      <td>20.000000</td>\n",
       "      <td>60.000000</td>\n",
       "      <td>20.000000</td>\n",
       "      <td>0</td>\n",
       "    </tr>\n",
       "    <tr>\n",
       "      <th>4</th>\n",
       "      <td>2008-08-14</td>\n",
       "      <td>b expert morning legalise drug b war south ose...</td>\n",
       "      <td>[b, expert, morning, legalise, drug, b, war, s...</td>\n",
       "      <td>[-0.020019358, 0.043589104, 0.06413258, 0.1148...</td>\n",
       "      <td>11532.070312</td>\n",
       "      <td>11718.280273</td>\n",
       "      <td>11450.889648</td>\n",
       "      <td>11615.929688</td>\n",
       "      <td>159790000.0</td>\n",
       "      <td>11615.929688</td>\n",
       "      <td>b'All the experts admit that we should legalis...</td>\n",
       "      <td>45.454545</td>\n",
       "      <td>54.545455</td>\n",
       "      <td>36.363636</td>\n",
       "      <td>54.545455</td>\n",
       "      <td>9.090909</td>\n",
       "      <td>1</td>\n",
       "    </tr>\n",
       "  </tbody>\n",
       "</table>\n",
       "</div>"
      ],
      "text/plain": [
       "        Date                                      headlines_str  \\\n",
       "0 2008-08-08  b georgia down two russian warplane country mo...   \n",
       "1 2008-08-11  b wont america nato help u wont help u help ir...   \n",
       "2 2008-08-12  b remember adorable year old sang opening cere...   \n",
       "3 2008-08-13  b america refuse israel weapon attack iran rep...   \n",
       "4 2008-08-14  b expert morning legalise drug b war south ose...   \n",
       "\n",
       "                                     headlines_words  \\\n",
       "0  [b, georgia, down, two, russian, warplane, cou...   \n",
       "1  [b, wont, america, nato, help, u, wont, help, ...   \n",
       "2  [b, remember, adorable, year, old, sang, openi...   \n",
       "3  [b, america, refuse, israel, weapon, attack, i...   \n",
       "4  [b, expert, morning, legalise, drug, b, war, s...   \n",
       "\n",
       "                                            word2vec          Open  \\\n",
       "0  [-0.030426025, 0.042169377, 0.043114804, 0.110...  11432.089844   \n",
       "1  [-0.04963903, 0.029282805, 0.061783727, 0.1101...  11729.669922   \n",
       "2  [-0.017341351, 0.051923424, 0.051041078, 0.108...  11781.700195   \n",
       "3  [-0.025739402, 0.040334575, 0.071311414, 0.098...  11632.809570   \n",
       "4  [-0.020019358, 0.043589104, 0.06413258, 0.1148...  11532.070312   \n",
       "\n",
       "           High           Low         Close       Volume     Adj Close  \\\n",
       "0  11759.959961  11388.040039  11734.320312  212830000.0  11734.320312   \n",
       "1  11867.110352  11675.530273  11782.349609  183190000.0  11782.349609   \n",
       "2  11782.349609  11601.519531  11642.469727  173590000.0  11642.469727   \n",
       "3  11633.780273  11453.339844  11532.959961  182550000.0  11532.959961   \n",
       "4  11718.280273  11450.889648  11615.929688  159790000.0  11615.929688   \n",
       "\n",
       "                                                Para  Subjectivity  \\\n",
       "0  b\"Georgia 'downs two Russian warplanes' as cou...     85.714286   \n",
       "1  b'Why wont America and Nato help us? If they w...     77.777778   \n",
       "2  b'Remember that adorable 9-year-old who sang a...     53.333333   \n",
       "3  b' U.S. refuses Israel weapons to attack Iran:...     40.000000   \n",
       "4  b'All the experts admit that we should legalis...     45.454545   \n",
       "\n",
       "   Objectivity   Positive    Neutral   Negative  Label  \n",
       "0    14.285714  21.428571  14.285714  64.285714      0  \n",
       "1    22.222222  33.333333  22.222222  44.444444      1  \n",
       "2    46.666667  20.000000  46.666667  33.333333      0  \n",
       "3    60.000000  20.000000  60.000000  20.000000      0  \n",
       "4    54.545455  36.363636  54.545455   9.090909      1  "
      ]
     },
     "execution_count": 11,
     "metadata": {},
     "output_type": "execute_result"
    }
   ],
   "source": [
    "# 把Volume的数据类型改成float\n",
    "#merged_dataframe['Date'] = pd.to_datetime(merged_dataframe['Date'])\n",
    "merged_dataframe['Volume'] = merged_dataframe['Volume'].astype(float)\n",
    "print(cols)\n",
    "merged_dataframe.index = merged_dataframe.index.sort_values()\n",
    "merged_dataframe.head()"
   ]
  },
  {
   "cell_type": "markdown",
   "metadata": {},
   "source": [
    "# 2 数据质量检查"
   ]
  },
  {
   "cell_type": "code",
   "execution_count": 12,
   "metadata": {},
   "outputs": [
    {
     "name": "stdout",
     "output_type": "stream",
     "text": [
      "               Open          High           Low         Close        Volume  \\\n",
      "count   1989.000000   1989.000000   1989.000000   1989.000000  1.989000e+03   \n",
      "mean   13459.116048  13541.303173  13372.931728  13463.032255  1.628110e+08   \n",
      "std     3143.281634   3136.271725   3150.420934   3144.006996  9.392343e+07   \n",
      "min     6547.009766   6709.609863   6469.950195   6547.049805  8.410000e+06   \n",
      "25%    10907.339844  11000.980469  10824.759766  10913.379883  1.000000e+08   \n",
      "50%    13022.049805  13088.110352  12953.129883  13025.580078  1.351700e+08   \n",
      "75%    16477.699219  16550.070312  16392.769531  16478.410156  1.926000e+08   \n",
      "max    18315.060547  18351.359375  18272.560547  18312.390625  6.749200e+08   \n",
      "\n",
      "          Adj Close  Subjectivity  Objectivity     Positive      Neutral  \\\n",
      "count   1989.000000   1986.000000  1986.000000  1986.000000  1986.000000   \n",
      "mean   13463.032255     59.430746    40.569254    20.392350    40.569254   \n",
      "std     3144.006996     22.331549    22.331549    17.829805    22.331549   \n",
      "min     6547.049805      0.000000     0.000000     0.000000     0.000000   \n",
      "25%    10913.379883     42.857143    25.000000     7.142857    25.000000   \n",
      "50%    13025.580078     57.142857    42.857143    18.181818    42.857143   \n",
      "75%    16478.410156     75.000000    57.142857    29.852941    57.142857   \n",
      "max    18312.390625    100.000000   100.000000   100.000000   100.000000   \n",
      "\n",
      "          Negative        Label  \n",
      "count  1986.000000  1989.000000  \n",
      "mean     39.038396     0.535445  \n",
      "std      22.830031     0.498867  \n",
      "min       0.000000     0.000000  \n",
      "25%      23.076923     0.000000  \n",
      "50%      33.333333     1.000000  \n",
      "75%      50.000000     1.000000  \n",
      "max     100.000000     1.000000  \n"
     ]
    }
   ],
   "source": [
    "print(merged_dataframe.describe())"
   ]
  },
  {
   "cell_type": "code",
   "execution_count": 13,
   "metadata": {},
   "outputs": [
    {
     "data": {
      "image/png": "[encoded data removed]",
      "text/plain": [
       "<Figure size 720x720 with 12 Axes>"
      ]
     },
     "metadata": {},
     "output_type": "display_data"
    }
   ],
   "source": [
    "# 直方图\n",
    "sns.set()\n",
    "merged_dataframe.hist(sharex = False, sharey = False, xlabelsize = 4, ylabelsize = 4, figsize=(10, 10))\n",
    "pyplot.show()"
   ]
  },
  {
   "cell_type": "markdown",
   "metadata": {},
   "source": [
    "很多特征虽然不是正态分布，但是分布相对比较均匀。\n",
    "\n",
    "标签的分布也比较均匀。"
   ]
  },
  {
   "cell_type": "code",
   "execution_count": 14,
   "metadata": {},
   "outputs": [],
   "source": [
    "# 设置显示字体等，中文表示\n",
    "plt.rcParams['font.family'] = ['sans-serif']\n",
    "plt.rcParams['font.sans-serif'] = ['SimHei']"
   ]
  },
  {
   "cell_type": "code",
   "execution_count": 15,
   "metadata": {},
   "outputs": [
    {
     "data": {
      "text/plain": [
       "Index(['Date', 'headlines_str', 'headlines_words', 'word2vec', 'Open', 'High',\n",
       "       'Low', 'Close', 'Volume', 'Adj Close', 'Para', 'Subjectivity',\n",
       "       'Objectivity', 'Positive', 'Neutral', 'Negative', 'Label'],\n",
       "      dtype='object')"
      ]
     },
     "execution_count": 15,
     "metadata": {},
     "output_type": "execute_result"
    }
   ],
   "source": [
    "merged_dataframe.columns"
   ]
  },
  {
   "cell_type": "code",
   "execution_count": 16,
   "metadata": {},
   "outputs": [
    {
     "data": {
      "text/plain": [
       "<Figure size 432x288 with 0 Axes>"
      ]
     },
     "metadata": {},
     "output_type": "display_data"
    },
    {
     "data": {
      "image/png": "[encoded data removed]",
      "text/plain": [
       "<Figure size 432x288 with 1 Axes>"
      ]
     },
     "metadata": {},
     "output_type": "display_data"
    },
    {
     "data": {
      "image/png": "[encoded data removed]",
      "text/plain": [
       "<Figure size 432x288 with 1 Axes>"
      ]
     },
     "metadata": {},
     "output_type": "display_data"
    },
    {
     "data": {
      "image/png": "[encoded data removed]",
      "text/plain": [
       "<Figure size 432x288 with 1 Axes>"
      ]
     },
     "metadata": {},
     "output_type": "display_data"
    },
    {
     "data": {
      "image/png": "[encoded data removed]",
      "text/plain": [
       "<Figure size 432x288 with 1 Axes>"
      ]
     },
     "metadata": {},
     "output_type": "display_data"
    },
    {
     "data": {
      "image/png": "[encoded data removed]",
      "text/plain": [
       "<Figure size 432x288 with 1 Axes>"
      ]
     },
     "metadata": {},
     "output_type": "display_data"
    },
    {
     "data": {
      "image/png": "[encoded data removed]",
      "text/plain": [
       "<Figure size 432x288 with 1 Axes>"
      ]
     },
     "metadata": {},
     "output_type": "display_data"
    },
    {
     "data": {
      "image/png": "[encoded data removed]",
      "text/plain": [
       "<Figure size 432x288 with 1 Axes>"
      ]
     },
     "metadata": {},
     "output_type": "display_data"
    },
    {
     "data": {
      "image/png": "[encoded data removed]",
      "text/plain": [
       "<Figure size 432x288 with 1 Axes>"
      ]
     },
     "metadata": {},
     "output_type": "display_data"
    },
    {
     "data": {
      "image/png": "[encoded data removed]",
      "text/plain": [
       "<Figure size 432x288 with 1 Axes>"
      ]
     },
     "metadata": {},
     "output_type": "display_data"
    },
    {
     "data": {
      "image/png": "[encoded data removed]",
      "text/plain": [
       "<Figure size 432x288 with 1 Axes>"
      ]
     },
     "metadata": {},
     "output_type": "display_data"
    },
    {
     "data": {
      "image/png": "[encoded data removed]",
      "text/plain": [
       "<Figure size 432x288 with 1 Axes>"
      ]
     },
     "metadata": {},
     "output_type": "display_data"
    }
   ],
   "source": [
    "# 箱型图\n",
    "fig = plt.figure()\n",
    "#Variable\n",
    "for col in ['Open', 'High','Low', 'Close', 'Volume', 'Adj Close','Subjectivity',\\\n",
    "       'Objectivity', 'Positive', 'Neutral', 'Negative']:\n",
    "    if col != 'Date' and col != 'Label':\n",
    "        merged_dataframe.boxplot(column=[col], by=\"Label\")\n",
    "        plt.show()"
   ]
  },
  {
   "cell_type": "code",
   "execution_count": 17,
   "metadata": {},
   "outputs": [
    {
     "name": "stdout",
     "output_type": "stream",
     "text": [
      "Size\n",
      "Label\n",
      "0     924\n",
      "1    1065\n",
      "dtype: int64\n"
     ]
    }
   ],
   "source": [
    "print(\"Size\")\n",
    "print(merged_dataframe.groupby('Label').size())"
   ]
  },
  {
   "cell_type": "code",
   "execution_count": 18,
   "metadata": {},
   "outputs": [
    {
     "data": {
      "application/vnd.plotly.v1+json": {
       "config": {
        "linkText": "Export to plot.ly",
        "plotlyServerURL": "https://plot.ly",
        "showLink": false
       },
       "data": [
        {
         "name": "0计数",
         "type": "bar",
         "x": [
          "Date",
          "headlines_str",
          "headlines_words",
          "word2vec",
          "Open",
          "High",
          "Low",
          "Close",
          "Volume",
          "Adj Close",
          "Para",
          "Subjectivity",
          "Objectivity",
          "Positive",
          "Neutral",
          "Negative",
          "Label"
         ],
         "y": [
          924,
          924,
          924,
          924,
          924,
          924,
          924,
          924,
          924,
          924,
          924,
          924,
          924,
          924,
          924,
          924,
          924
         ]
        },
        {
         "name": "1计数",
         "type": "bar",
         "x": [
          "Date",
          "headlines_str",
          "headlines_words",
          "word2vec",
          "Open",
          "High",
          "Low",
          "Close",
          "Volume",
          "Adj Close",
          "Para",
          "Subjectivity",
          "Objectivity",
          "Positive",
          "Neutral",
          "Negative",
          "Label"
         ],
         "y": [
          1065,
          1065,
          1065,
          1065,
          1065,
          1065,
          1065,
          1065,
          1065,
          1065,
          1065,
          1065,
          1065,
          1065,
          1065,
          1065,
          1065
         ]
        }
       ],
       "layout": {
        "barmode": "stack",
        "template": {
         "data": {
          "bar": [
           {
            "error_x": {
             "color": "#2a3f5f"
            },
            "error_y": {
             "color": "#2a3f5f"
            },
            "marker": {
             "line": {
              "color": "#E5ECF6",
              "width": 0.5
             },
             "pattern": {
              "fillmode": "overlay",
              "size": 10,
              "solidity": 0.2
             }
            },
            "type": "bar"
           }
          ],
          "barpolar": [
           {
            "marker": {
             "line": {
              "color": "#E5ECF6",
              "width": 0.5
             },
             "pattern": {
              "fillmode": "overlay",
              "size": 10,
              "solidity": 0.2
             }
            },
            "type": "barpolar"
           }
          ],
          "carpet": [
           {
            "aaxis": {
             "endlinecolor": "#2a3f5f",
             "gridcolor": "white",
             "linecolor": "white",
             "minorgridcolor": "white",
             "startlinecolor": "#2a3f5f"
            },
            "baxis": {
             "endlinecolor": "#2a3f5f",
             "gridcolor": "white",
             "linecolor": "white",
             "minorgridcolor": "white",
             "startlinecolor": "#2a3f5f"
            },
            "type": "carpet"
           }
          ],
          "choropleth": [
           {
            "colorbar": {
             "outlinewidth": 0,
             "ticks": ""
            },
            "type": "choropleth"
           }
          ],
          "contour": [
           {
            "colorbar": {
             "outlinewidth": 0,
             "ticks": ""
            },
            "colorscale": [
             [
              0,
              "#0d0887"
             ],
             [
              0.1111111111111111,
              "#46039f"
             ],
             [
              0.2222222222222222,
              "#7201a8"
             ],
             [
              0.3333333333333333,
              "#9c179e"
             ],
             [
              0.4444444444444444,
              "#bd3786"
             ],
             [
              0.5555555555555556,
              "#d8576b"
             ],
             [
              0.6666666666666666,
              "#ed7953"
             ],
             [
              0.7777777777777778,
              "#fb9f3a"
             ],
             [
              0.8888888888888888,
              "#fdca26"
             ],
             [
              1,
              "#f0f921"
             ]
            ],
            "type": "contour"
           }
          ],
          "contourcarpet": [
           {
            "colorbar": {
             "outlinewidth": 0,
             "ticks": ""
            },
            "type": "contourcarpet"
           }
          ],
          "heatmap": [
           {
            "colorbar": {
             "outlinewidth": 0,
             "ticks": ""
            },
            "colorscale": [
             [
              0,
              "#0d0887"
             ],
             [
              0.1111111111111111,
              "#46039f"
             ],
             [
              0.2222222222222222,
              "#7201a8"
             ],
             [
              0.3333333333333333,
              "#9c179e"
             ],
             [
              0.4444444444444444,
              "#bd3786"
             ],
             [
              0.5555555555555556,
              "#d8576b"
             ],
             [
              0.6666666666666666,
              "#ed7953"
             ],
             [
              0.7777777777777778,
              "#fb9f3a"
             ],
             [
              0.8888888888888888,
              "#fdca26"
             ],
             [
              1,
              "#f0f921"
             ]
            ],
            "type": "heatmap"
           }
          ],
          "heatmapgl": [
           {
            "colorbar": {
             "outlinewidth": 0,
             "ticks": ""
            },
            "colorscale": [
             [
              0,
              "#0d0887"
             ],
             [
              0.1111111111111111,
              "#46039f"
             ],
             [
              0.2222222222222222,
              "#7201a8"
             ],
             [
              0.3333333333333333,
              "#9c179e"
             ],
             [
              0.4444444444444444,
              "#bd3786"
             ],
             [
              0.5555555555555556,
              "#d8576b"
             ],
             [
              0.6666666666666666,
              "#ed7953"
             ],
             [
              0.7777777777777778,
              "#fb9f3a"
             ],
             [
              0.8888888888888888,
              "#fdca26"
             ],
             [
              1,
              "#f0f921"
             ]
            ],
            "type": "heatmapgl"
           }
          ],
          "histogram": [
           {
            "marker": {
             "pattern": {
              "fillmode": "overlay",
              "size": 10,
              "solidity": 0.2
             }
            },
            "type": "histogram"
           }
          ],
          "histogram2d": [
           {
            "colorbar": {
             "outlinewidth": 0,
             "ticks": ""
            },
            "colorscale": [
             [
              0,
              "#0d0887"
             ],
             [
              0.1111111111111111,
              "#46039f"
             ],
             [
              0.2222222222222222,
              "#7201a8"
             ],
             [
              0.3333333333333333,
              "#9c179e"
             ],
             [
              0.4444444444444444,
              "#bd3786"
             ],
             [
              0.5555555555555556,
              "#d8576b"
             ],
             [
              0.6666666666666666,
              "#ed7953"
             ],
             [
              0.7777777777777778,
              "#fb9f3a"
             ],
             [
              0.8888888888888888,
              "#fdca26"
             ],
             [
              1,
              "#f0f921"
             ]
            ],
            "type": "histogram2d"
           }
          ],
          "histogram2dcontour": [
           {
            "colorbar": {
             "outlinewidth": 0,
             "ticks": ""
            },
            "colorscale": [
             [
              0,
              "#0d0887"
             ],
             [
              0.1111111111111111,
              "#46039f"
             ],
             [
              0.2222222222222222,
              "#7201a8"
             ],
             [
              0.3333333333333333,
              "#9c179e"
             ],
             [
              0.4444444444444444,
              "#bd3786"
             ],
             [
              0.5555555555555556,
              "#d8576b"
             ],
             [
              0.6666666666666666,
              "#ed7953"
             ],
             [
              0.7777777777777778,
              "#fb9f3a"
             ],
             [
              0.8888888888888888,
              "#fdca26"
             ],
             [
              1,
              "#f0f921"
             ]
            ],
            "type": "histogram2dcontour"
           }
          ],
          "mesh3d": [
           {
            "colorbar": {
             "outlinewidth": 0,
             "ticks": ""
            },
            "type": "mesh3d"
           }
          ],
          "parcoords": [
           {
            "line": {
             "colorbar": {
              "outlinewidth": 0,
              "ticks": ""
             }
            },
            "type": "parcoords"
           }
          ],
          "pie": [
           {
            "automargin": true,
            "type": "pie"
           }
          ],
          "scatter": [
           {
            "marker": {
             "colorbar": {
              "outlinewidth": 0,
              "ticks": ""
             }
            },
            "type": "scatter"
           }
          ],
          "scatter3d": [
           {
            "line": {
             "colorbar": {
              "outlinewidth": 0,
              "ticks": ""
             }
            },
            "marker": {
             "colorbar": {
              "outlinewidth": 0,
              "ticks": ""
             }
            },
            "type": "scatter3d"
           }
          ],
          "scattercarpet": [
           {
            "marker": {
             "colorbar": {
              "outlinewidth": 0,
              "ticks": ""
             }
            },
            "type": "scattercarpet"
           }
          ],
          "scattergeo": [
           {
            "marker": {
             "colorbar": {
              "outlinewidth": 0,
              "ticks": ""
             }
            },
            "type": "scattergeo"
           }
          ],
          "scattergl": [
           {
            "marker": {
             "colorbar": {
              "outlinewidth": 0,
              "ticks": ""
             }
            },
            "type": "scattergl"
           }
          ],
          "scattermapbox": [
           {
            "marker": {
             "colorbar": {
              "outlinewidth": 0,
              "ticks": ""
             }
            },
            "type": "scattermapbox"
           }
          ],
          "scatterpolar": [
           {
            "marker": {
             "colorbar": {
              "outlinewidth": 0,
              "ticks": ""
             }
            },
            "type": "scatterpolar"
           }
          ],
          "scatterpolargl": [
           {
            "marker": {
             "colorbar": {
              "outlinewidth": 0,
              "ticks": ""
             }
            },
            "type": "scatterpolargl"
           }
          ],
          "scatterternary": [
           {
            "marker": {
             "colorbar": {
              "outlinewidth": 0,
              "ticks": ""
             }
            },
            "type": "scatterternary"
           }
          ],
          "surface": [
           {
            "colorbar": {
             "outlinewidth": 0,
             "ticks": ""
            },
            "colorscale": [
             [
              0,
              "#0d0887"
             ],
             [
              0.1111111111111111,
              "#46039f"
             ],
             [
              0.2222222222222222,
              "#7201a8"
             ],
             [
              0.3333333333333333,
              "#9c179e"
             ],
             [
              0.4444444444444444,
              "#bd3786"
             ],
             [
              0.5555555555555556,
              "#d8576b"
             ],
             [
              0.6666666666666666,
              "#ed7953"
             ],
             [
              0.7777777777777778,
              "#fb9f3a"
             ],
             [
              0.8888888888888888,
              "#fdca26"
             ],
             [
              1,
              "#f0f921"
             ]
            ],
            "type": "surface"
           }
          ],
          "table": [
           {
            "cells": {
             "fill": {
              "color": "#EBF0F8"
             },
             "line": {
              "color": "white"
             }
            },
            "header": {
             "fill": {
              "color": "#C8D4E3"
             },
             "line": {
              "color": "white"
             }
            },
            "type": "table"
           }
          ]
         },
         "layout": {
          "annotationdefaults": {
           "arrowcolor": "#2a3f5f",
           "arrowhead": 0,
           "arrowwidth": 1
          },
          "autotypenumbers": "strict",
          "coloraxis": {
           "colorbar": {
            "outlinewidth": 0,
            "ticks": ""
           }
          },
          "colorscale": {
           "diverging": [
            [
             0,
             "#8e0152"
            ],
            [
             0.1,
             "#c51b7d"
            ],
            [
             0.2,
             "#de77ae"
            ],
            [
             0.3,
             "#f1b6da"
            ],
            [
             0.4,
             "#fde0ef"
            ],
            [
             0.5,
             "#f7f7f7"
            ],
            [
             0.6,
             "#e6f5d0"
            ],
            [
             0.7,
             "#b8e186"
            ],
            [
             0.8,
             "#7fbc41"
            ],
            [
             0.9,
             "#4d9221"
            ],
            [
             1,
             "#276419"
            ]
           ],
           "sequential": [
            [
             0,
             "#0d0887"
            ],
            [
             0.1111111111111111,
             "#46039f"
            ],
            [
             0.2222222222222222,
             "#7201a8"
            ],
            [
             0.3333333333333333,
             "#9c179e"
            ],
            [
             0.4444444444444444,
             "#bd3786"
            ],
            [
             0.5555555555555556,
             "#d8576b"
            ],
            [
             0.6666666666666666,
             "#ed7953"
            ],
            [
             0.7777777777777778,
             "#fb9f3a"
            ],
            [
             0.8888888888888888,
             "#fdca26"
            ],
            [
             1,
             "#f0f921"
            ]
           ],
           "sequentialminus": [
            [
             0,
             "#0d0887"
            ],
            [
             0.1111111111111111,
             "#46039f"
            ],
            [
             0.2222222222222222,
             "#7201a8"
            ],
            [
             0.3333333333333333,
             "#9c179e"
            ],
            [
             0.4444444444444444,
             "#bd3786"
            ],
            [
             0.5555555555555556,
             "#d8576b"
            ],
            [
             0.6666666666666666,
             "#ed7953"
            ],
            [
             0.7777777777777778,
             "#fb9f3a"
            ],
            [
             0.8888888888888888,
             "#fdca26"
            ],
            [
             1,
             "#f0f921"
            ]
           ]
          },
          "colorway": [
           "#636efa",
           "#EF553B",
           "#00cc96",
           "#ab63fa",
           "#FFA15A",
           "#19d3f3",
           "#FF6692",
           "#B6E880",
           "#FF97FF",
           "#FECB52"
          ],
          "font": {
           "color": "#2a3f5f"
          },
          "geo": {
           "bgcolor": "white",
           "lakecolor": "white",
           "landcolor": "#E5ECF6",
           "showlakes": true,
           "showland": true,
           "subunitcolor": "white"
          },
          "hoverlabel": {
           "align": "left"
          },
          "hovermode": "closest",
          "mapbox": {
           "style": "light"
          },
          "paper_bgcolor": "white",
          "plot_bgcolor": "#E5ECF6",
          "polar": {
           "angularaxis": {
            "gridcolor": "white",
            "linecolor": "white",
            "ticks": ""
           },
           "bgcolor": "#E5ECF6",
           "radialaxis": {
            "gridcolor": "white",
            "linecolor": "white",
            "ticks": ""
           }
          },
          "scene": {
           "xaxis": {
            "backgroundcolor": "#E5ECF6",
            "gridcolor": "white",
            "gridwidth": 2,
            "linecolor": "white",
            "showbackground": true,
            "ticks": "",
            "zerolinecolor": "white"
           },
           "yaxis": {
            "backgroundcolor": "#E5ECF6",
            "gridcolor": "white",
            "gridwidth": 2,
            "linecolor": "white",
            "showbackground": true,
            "ticks": "",
            "zerolinecolor": "white"
           },
           "zaxis": {
            "backgroundcolor": "#E5ECF6",
            "gridcolor": "white",
            "gridwidth": 2,
            "linecolor": "white",
            "showbackground": true,
            "ticks": "",
            "zerolinecolor": "white"
           }
          },
          "shapedefaults": {
           "line": {
            "color": "#2a3f5f"
           }
          },
          "ternary": {
           "aaxis": {
            "gridcolor": "white",
            "linecolor": "white",
            "ticks": ""
           },
           "baxis": {
            "gridcolor": "white",
            "linecolor": "white",
            "ticks": ""
           },
           "bgcolor": "#E5ECF6",
           "caxis": {
            "gridcolor": "white",
            "linecolor": "white",
            "ticks": ""
           }
          },
          "title": {
           "x": 0.05
          },
          "xaxis": {
           "automargin": true,
           "gridcolor": "white",
           "linecolor": "white",
           "ticks": "",
           "title": {
            "standoff": 15
           },
           "zerolinecolor": "white",
           "zerolinewidth": 2
          },
          "yaxis": {
           "automargin": true,
           "gridcolor": "white",
           "linecolor": "white",
           "ticks": "",
           "title": {
            "standoff": 15
           },
           "zerolinecolor": "white",
           "zerolinewidth": 2
          }
         }
        },
        "title": {
         "text": "label 中 1 和 0 的计数"
        }
       }
      },
      "text/html": [
       "<div>                            <div id=\"7dc05273-319e-4163-89ae-ad6f21bc6048\" class=\"plotly-graph-div\" style=\"height:525px; width:100%;\"></div>            <script type=\"text/javascript\">                require([\"plotly\"], function(Plotly) {                    window.PLOTLYENV=window.PLOTLYENV || {};                                    if (document.getElementById(\"7dc05273-319e-4163-89ae-ad6f21bc6048\")) {                    Plotly.newPlot(                        \"7dc05273-319e-4163-89ae-ad6f21bc6048\",                        [{\"name\":\"0\\u8ba1\\u6570\",\"type\":\"bar\",\"x\":[\"Date\",\"headlines_str\",\"headlines_words\",\"word2vec\",\"Open\",\"High\",\"Low\",\"Close\",\"Volume\",\"Adj Close\",\"Para\",\"Subjectivity\",\"Objectivity\",\"Positive\",\"Neutral\",\"Negative\",\"Label\"],\"y\":[924,924,924,924,924,924,924,924,924,924,924,924,924,924,924,924,924]},{\"name\":\"1\\u8ba1\\u6570\",\"type\":\"bar\",\"x\":[\"Date\",\"headlines_str\",\"headlines_words\",\"word2vec\",\"Open\",\"High\",\"Low\",\"Close\",\"Volume\",\"Adj Close\",\"Para\",\"Subjectivity\",\"Objectivity\",\"Positive\",\"Neutral\",\"Negative\",\"Label\"],\"y\":[1065,1065,1065,1065,1065,1065,1065,1065,1065,1065,1065,1065,1065,1065,1065,1065,1065]}],                        {\"barmode\":\"stack\",\"template\":{\"data\":{\"bar\":[{\"error_x\":{\"color\":\"#2a3f5f\"},\"error_y\":{\"color\":\"#2a3f5f\"},\"marker\":{\"line\":{\"color\":\"#E5ECF6\",\"width\":0.5},\"pattern\":{\"fillmode\":\"overlay\",\"size\":10,\"solidity\":0.2}},\"type\":\"bar\"}],\"barpolar\":[{\"marker\":{\"line\":{\"color\":\"#E5ECF6\",\"width\":0.5},\"pattern\":{\"fillmode\":\"overlay\",\"size\":10,\"solidity\":0.2}},\"type\":\"barpolar\"}],\"carpet\":[{\"aaxis\":{\"endlinecolor\":\"#2a3f5f\",\"gridcolor\":\"white\",\"linecolor\":\"white\",\"minorgridcolor\":\"white\",\"startlinecolor\":\"#2a3f5f\"},\"baxis\":{\"endlinecolor\":\"#2a3f5f\",\"gridcolor\":\"white\",\"linecolor\":\"white\",\"minorgridcolor\":\"white\",\"startlinecolor\":\"#2a3f5f\"},\"type\":\"carpet\"}],\"choropleth\":[{\"colorbar\":{\"outlinewidth\":0,\"ticks\":\"\"},\"type\":\"choropleth\"}],\"contour\":[{\"colorbar\":{\"outlinewidth\":0,\"ticks\":\"\"},\"colorscale\":[[0.0,\"#0d0887\"],[0.1111111111111111,\"#46039f\"],[0.2222222222222222,\"#7201a8\"],[0.3333333333333333,\"#9c179e\"],[0.4444444444444444,\"#bd3786\"],[0.5555555555555556,\"#d8576b\"],[0.6666666666666666,\"#ed7953\"],[0.7777777777777778,\"#fb9f3a\"],[0.8888888888888888,\"#fdca26\"],[1.0,\"#f0f921\"]],\"type\":\"contour\"}],\"contourcarpet\":[{\"colorbar\":{\"outlinewidth\":0,\"ticks\":\"\"},\"type\":\"contourcarpet\"}],\"heatmap\":[{\"colorbar\":{\"outlinewidth\":0,\"ticks\":\"\"},\"colorscale\":[[0.0,\"#0d0887\"],[0.1111111111111111,\"#46039f\"],[0.2222222222222222,\"#7201a8\"],[0.3333333333333333,\"#9c179e\"],[0.4444444444444444,\"#bd3786\"],[0.5555555555555556,\"#d8576b\"],[0.6666666666666666,\"#ed7953\"],[0.7777777777777778,\"#fb9f3a\"],[0.8888888888888888,\"#fdca26\"],[1.0,\"#f0f921\"]],\"type\":\"heatmap\"}],\"heatmapgl\":[{\"colorbar\":{\"outlinewidth\":0,\"ticks\":\"\"},\"colorscale\":[[0.0,\"#0d0887\"],[0.1111111111111111,\"#46039f\"],[0.2222222222222222,\"#7201a8\"],[0.3333333333333333,\"#9c179e\"],[0.4444444444444444,\"#bd3786\"],[0.5555555555555556,\"#d8576b\"],[0.6666666666666666,\"#ed7953\"],[0.7777777777777778,\"#fb9f3a\"],[0.8888888888888888,\"#fdca26\"],[1.0,\"#f0f921\"]],\"type\":\"heatmapgl\"}],\"histogram\":[{\"marker\":{\"pattern\":{\"fillmode\":\"overlay\",\"size\":10,\"solidity\":0.2}},\"type\":\"histogram\"}],\"histogram2d\":[{\"colorbar\":{\"outlinewidth\":0,\"ticks\":\"\"},\"colorscale\":[[0.0,\"#0d0887\"],[0.1111111111111111,\"#46039f\"],[0.2222222222222222,\"#7201a8\"],[0.3333333333333333,\"#9c179e\"],[0.4444444444444444,\"#bd3786\"],[0.5555555555555556,\"#d8576b\"],[0.6666666666666666,\"#ed7953\"],[0.7777777777777778,\"#fb9f3a\"],[0.8888888888888888,\"#fdca26\"],[1.0,\"#f0f921\"]],\"type\":\"histogram2d\"}],\"histogram2dcontour\":[{\"colorbar\":{\"outlinewidth\":0,\"ticks\":\"\"},\"colorscale\":[[0.0,\"#0d0887\"],[0.1111111111111111,\"#46039f\"],[0.2222222222222222,\"#7201a8\"],[0.3333333333333333,\"#9c179e\"],[0.4444444444444444,\"#bd3786\"],[0.5555555555555556,\"#d8576b\"],[0.6666666666666666,\"#ed7953\"],[0.7777777777777778,\"#fb9f3a\"],[0.8888888888888888,\"#fdca26\"],[1.0,\"#f0f921\"]],\"type\":\"histogram2dcontour\"}],\"mesh3d\":[{\"colorbar\":{\"outlinewidth\":0,\"ticks\":\"\"},\"type\":\"mesh3d\"}],\"parcoords\":[{\"line\":{\"colorbar\":{\"outlinewidth\":0,\"ticks\":\"\"}},\"type\":\"parcoords\"}],\"pie\":[{\"automargin\":true,\"type\":\"pie\"}],\"scatter\":[{\"marker\":{\"colorbar\":{\"outlinewidth\":0,\"ticks\":\"\"}},\"type\":\"scatter\"}],\"scatter3d\":[{\"line\":{\"colorbar\":{\"outlinewidth\":0,\"ticks\":\"\"}},\"marker\":{\"colorbar\":{\"outlinewidth\":0,\"ticks\":\"\"}},\"type\":\"scatter3d\"}],\"scattercarpet\":[{\"marker\":{\"colorbar\":{\"outlinewidth\":0,\"ticks\":\"\"}},\"type\":\"scattercarpet\"}],\"scattergeo\":[{\"marker\":{\"colorbar\":{\"outlinewidth\":0,\"ticks\":\"\"}},\"type\":\"scattergeo\"}],\"scattergl\":[{\"marker\":{\"colorbar\":{\"outlinewidth\":0,\"ticks\":\"\"}},\"type\":\"scattergl\"}],\"scattermapbox\":[{\"marker\":{\"colorbar\":{\"outlinewidth\":0,\"ticks\":\"\"}},\"type\":\"scattermapbox\"}],\"scatterpolar\":[{\"marker\":{\"colorbar\":{\"outlinewidth\":0,\"ticks\":\"\"}},\"type\":\"scatterpolar\"}],\"scatterpolargl\":[{\"marker\":{\"colorbar\":{\"outlinewidth\":0,\"ticks\":\"\"}},\"type\":\"scatterpolargl\"}],\"scatterternary\":[{\"marker\":{\"colorbar\":{\"outlinewidth\":0,\"ticks\":\"\"}},\"type\":\"scatterternary\"}],\"surface\":[{\"colorbar\":{\"outlinewidth\":0,\"ticks\":\"\"},\"colorscale\":[[0.0,\"#0d0887\"],[0.1111111111111111,\"#46039f\"],[0.2222222222222222,\"#7201a8\"],[0.3333333333333333,\"#9c179e\"],[0.4444444444444444,\"#bd3786\"],[0.5555555555555556,\"#d8576b\"],[0.6666666666666666,\"#ed7953\"],[0.7777777777777778,\"#fb9f3a\"],[0.8888888888888888,\"#fdca26\"],[1.0,\"#f0f921\"]],\"type\":\"surface\"}],\"table\":[{\"cells\":{\"fill\":{\"color\":\"#EBF0F8\"},\"line\":{\"color\":\"white\"}},\"header\":{\"fill\":{\"color\":\"#C8D4E3\"},\"line\":{\"color\":\"white\"}},\"type\":\"table\"}]},\"layout\":{\"annotationdefaults\":{\"arrowcolor\":\"#2a3f5f\",\"arrowhead\":0,\"arrowwidth\":1},\"autotypenumbers\":\"strict\",\"coloraxis\":{\"colorbar\":{\"outlinewidth\":0,\"ticks\":\"\"}},\"colorscale\":{\"diverging\":[[0,\"#8e0152\"],[0.1,\"#c51b7d\"],[0.2,\"#de77ae\"],[0.3,\"#f1b6da\"],[0.4,\"#fde0ef\"],[0.5,\"#f7f7f7\"],[0.6,\"#e6f5d0\"],[0.7,\"#b8e186\"],[0.8,\"#7fbc41\"],[0.9,\"#4d9221\"],[1,\"#276419\"]],\"sequential\":[[0.0,\"#0d0887\"],[0.1111111111111111,\"#46039f\"],[0.2222222222222222,\"#7201a8\"],[0.3333333333333333,\"#9c179e\"],[0.4444444444444444,\"#bd3786\"],[0.5555555555555556,\"#d8576b\"],[0.6666666666666666,\"#ed7953\"],[0.7777777777777778,\"#fb9f3a\"],[0.8888888888888888,\"#fdca26\"],[1.0,\"#f0f921\"]],\"sequentialminus\":[[0.0,\"#0d0887\"],[0.1111111111111111,\"#46039f\"],[0.2222222222222222,\"#7201a8\"],[0.3333333333333333,\"#9c179e\"],[0.4444444444444444,\"#bd3786\"],[0.5555555555555556,\"#d8576b\"],[0.6666666666666666,\"#ed7953\"],[0.7777777777777778,\"#fb9f3a\"],[0.8888888888888888,\"#fdca26\"],[1.0,\"#f0f921\"]]},\"colorway\":[\"#636efa\",\"#EF553B\",\"#00cc96\",\"#ab63fa\",\"#FFA15A\",\"#19d3f3\",\"#FF6692\",\"#B6E880\",\"#FF97FF\",\"#FECB52\"],\"font\":{\"color\":\"#2a3f5f\"},\"geo\":{\"bgcolor\":\"white\",\"lakecolor\":\"white\",\"landcolor\":\"#E5ECF6\",\"showlakes\":true,\"showland\":true,\"subunitcolor\":\"white\"},\"hoverlabel\":{\"align\":\"left\"},\"hovermode\":\"closest\",\"mapbox\":{\"style\":\"light\"},\"paper_bgcolor\":\"white\",\"plot_bgcolor\":\"#E5ECF6\",\"polar\":{\"angularaxis\":{\"gridcolor\":\"white\",\"linecolor\":\"white\",\"ticks\":\"\"},\"bgcolor\":\"#E5ECF6\",\"radialaxis\":{\"gridcolor\":\"white\",\"linecolor\":\"white\",\"ticks\":\"\"}},\"scene\":{\"xaxis\":{\"backgroundcolor\":\"#E5ECF6\",\"gridcolor\":\"white\",\"gridwidth\":2,\"linecolor\":\"white\",\"showbackground\":true,\"ticks\":\"\",\"zerolinecolor\":\"white\"},\"yaxis\":{\"backgroundcolor\":\"#E5ECF6\",\"gridcolor\":\"white\",\"gridwidth\":2,\"linecolor\":\"white\",\"showbackground\":true,\"ticks\":\"\",\"zerolinecolor\":\"white\"},\"zaxis\":{\"backgroundcolor\":\"#E5ECF6\",\"gridcolor\":\"white\",\"gridwidth\":2,\"linecolor\":\"white\",\"showbackground\":true,\"ticks\":\"\",\"zerolinecolor\":\"white\"}},\"shapedefaults\":{\"line\":{\"color\":\"#2a3f5f\"}},\"ternary\":{\"aaxis\":{\"gridcolor\":\"white\",\"linecolor\":\"white\",\"ticks\":\"\"},\"baxis\":{\"gridcolor\":\"white\",\"linecolor\":\"white\",\"ticks\":\"\"},\"bgcolor\":\"#E5ECF6\",\"caxis\":{\"gridcolor\":\"white\",\"linecolor\":\"white\",\"ticks\":\"\"}},\"title\":{\"x\":0.05},\"xaxis\":{\"automargin\":true,\"gridcolor\":\"white\",\"linecolor\":\"white\",\"ticks\":\"\",\"title\":{\"standoff\":15},\"zerolinecolor\":\"white\",\"zerolinewidth\":2},\"yaxis\":{\"automargin\":true,\"gridcolor\":\"white\",\"linecolor\":\"white\",\"ticks\":\"\",\"title\":{\"standoff\":15},\"zerolinecolor\":\"white\",\"zerolinewidth\":2}}},\"title\":{\"text\":\"label \\u4e2d 1 \\u548c 0 \\u7684\\u8ba1\\u6570\"}},                        {\"responsive\": true}                    ).then(function(){\n",
       "                            \n",
       "var gd = document.getElementById('7dc05273-319e-4163-89ae-ad6f21bc6048');\n",
       "var x = new MutationObserver(function (mutations, observer) {{\n",
       "        var display = window.getComputedStyle(gd).display;\n",
       "        if (!display || display === 'none') {{\n",
       "            console.log([gd, 'removed!']);\n",
       "            Plotly.purge(gd);\n",
       "            observer.disconnect();\n",
       "        }}\n",
       "}});\n",
       "\n",
       "// Listen for the removal of the full notebook cells\n",
       "var notebookContainer = gd.closest('#notebook-container');\n",
       "if (notebookContainer) {{\n",
       "    x.observe(notebookContainer, {childList: true});\n",
       "}}\n",
       "\n",
       "// Listen for the clearing of the current output cell\n",
       "var outputEl = gd.closest('.output');\n",
       "if (outputEl) {{\n",
       "    x.observe(outputEl, {childList: true});\n",
       "}}\n",
       "\n",
       "                        })                };                });            </script>        </div>"
      ]
     },
     "metadata": {},
     "output_type": "display_data"
    }
   ],
   "source": [
    "bin_col = merged_dataframe.columns\n",
    "\n",
    "zero_list = []\n",
    "one_list = []\n",
    "for col in bin_col:\n",
    "    zero_count = 0\n",
    "    one_count = 0\n",
    "    for ix, val in merged_dataframe[col].iteritems():\n",
    "        if merged_dataframe.loc[ix, 'Label'] == 0:\n",
    "            zero_count += 1\n",
    "        else:\n",
    "            one_count += 1\n",
    "    zero_list.append(zero_count)\n",
    "    one_list.append(one_count)\n",
    "\n",
    "    \n",
    "    \n",
    "trace1 = go.Bar(\n",
    "    x=bin_col,\n",
    "    y=zero_list ,\n",
    "    name='0计数'\n",
    ")\n",
    "trace2 = go.Bar(\n",
    "    x=bin_col,\n",
    "    y=one_list,\n",
    "    name='1计数'\n",
    ")\n",
    "\n",
    "data = [trace1, trace2]\n",
    "layout = go.Layout(\n",
    "    barmode='stack',\n",
    "    title='label 中 1 和 0 的计数'\n",
    ")\n",
    "\n",
    "fig = go.Figure(data=data, layout=layout)\n",
    "py.iplot(fig, filename='stacked-bar')"
   ]
  },
  {
   "cell_type": "markdown",
   "metadata": {},
   "source": [
    "以label去区分，每一属性的数量都是差不多的"
   ]
  },
  {
   "cell_type": "code",
   "execution_count": 19,
   "metadata": {},
   "outputs": [
    {
     "data": {
      "text/plain": [
       "<AxesSubplot:>"
      ]
     },
     "execution_count": 19,
     "metadata": {},
     "output_type": "execute_result"
    },
    {
     "data": {
      "image/png": "[encoded data removed]",
      "text/plain": [
       "<Figure size 1440x1008 with 2 Axes>"
      ]
     },
     "metadata": {},
     "output_type": "display_data"
    }
   ],
   "source": [
    "md_copy = merged_dataframe\n",
    "md_copy = md_copy.replace(-1, np.NaN)#把-1换成nan\n",
    "import missingno as msno\n",
    "# 空值\n",
    "msno.matrix(df=md_copy.iloc[:,2:], figsize=(20, 14), color=(0.42, 0.1, 0.05))"
   ]
  },
  {
   "cell_type": "code",
   "execution_count": 20,
   "metadata": {},
   "outputs": [],
   "source": [
    "# 把 NaN 值更改为该列的平均值 \n",
    "nan_list = ['Subjectivity', 'Objectivity', 'Positive', 'Negative', 'Neutral']\n",
    "for col in nan_list:\n",
    "    merged_dataframe[col] = merged_dataframe[col].fillna(merged_dataframe[col].mean())"
   ]
  },
  {
   "cell_type": "markdown",
   "metadata": {},
   "source": [
    "# 最大的不同：以今天预测明天（改变LABEL）"
   ]
  },
  {
   "cell_type": "code",
   "execution_count": 21,
   "metadata": {},
   "outputs": [
    {
     "name": "stderr",
     "output_type": "stream",
     "text": [
      "E:\\download\\anaconda\\download\\lib\\site-packages\\pandas\\core\\generic.py:5168: SettingWithCopyWarning:\n",
      "\n",
      "\n",
      "A value is trying to be set on a copy of a slice from a DataFrame.\n",
      "Try using .loc[row_indexer,col_indexer] = value instead\n",
      "\n",
      "See the caveats in the documentation: https://pandas.pydata.org/pandas-docs/stable/user_guide/indexing.html#returning-a-view-versus-a-copy\n",
      "\n"
     ]
    }
   ],
   "source": [
    "# 把label挪动1格（以今天预测明天）\n",
    "labels = merged_dataframe.Label[:]\n",
    "merged_dataframe = merged_dataframe[:-1]\n",
    "merged_dataframe.Label = labels"
   ]
  },
  {
   "cell_type": "markdown",
   "metadata": {},
   "source": [
    "# 3 特征编码方式"
   ]
  },
  {
   "cell_type": "code",
   "execution_count": 22,
   "metadata": {},
   "outputs": [
    {
     "data": {
      "text/plain": [
       "Index(['Date', 'headlines_str', 'headlines_words', 'word2vec', 'Open', 'High',\n",
       "       'Low', 'Close', 'Volume', 'Adj Close', 'Para', 'Subjectivity',\n",
       "       'Objectivity', 'Positive', 'Neutral', 'Negative', 'Label'],\n",
       "      dtype='object')"
      ]
     },
     "execution_count": 22,
     "metadata": {},
     "output_type": "execute_result"
    }
   ],
   "source": [
    "merged_dataframe.columns"
   ]
  },
  {
   "cell_type": "code",
   "execution_count": 23,
   "metadata": {},
   "outputs": [
    {
     "name": "stdout",
     "output_type": "stream",
     "text": [
      "总数: 1988\n",
      "X 训练数目: 1392\n",
      "X 测试数目: 597\n",
      "y 训练数目: 1392\n",
      "y 测试数目: 597\n"
     ]
    }
   ],
   "source": [
    "X = merged_dataframe.loc[:,'headlines_str':'Negative']\n",
    "y = merged_dataframe.loc[:,'Label']\n",
    "\n",
    "# 70% 训练集  30% 测试集\n",
    "train_size = int(len(X.index) * 0.7)\n",
    "\n",
    "X_train, X_test = X.loc[0:train_size, :], X.loc[train_size: len(X.index), :]\n",
    "y_train, y_test = y[0:train_size+1], y.loc[train_size: len(X.index)]\n",
    "\n",
    "print('总数: %d' % (len(X.index)))\n",
    "print('X 训练数目: %d' % (len(X_train.index)))\n",
    "print('X 测试数目: %d' % (len(X_test.index)))\n",
    "print('y 训练数目: %d' % (len(y_train)))\n",
    "print('y 测试数目: %d' % (len(y_test)))"
   ]
  },
  {
   "cell_type": "markdown",
   "metadata": {},
   "source": [
    "## 3.1 词袋模型"
   ]
  },
  {
   "cell_type": "code",
   "execution_count": 24,
   "metadata": {},
   "outputs": [],
   "source": [
    "count_vect = CountVectorizer(analyzer='word')\n",
    "X_bag = count_vect.fit_transform(X_train.headlines_str).toarray()"
   ]
  },
  {
   "cell_type": "code",
   "execution_count": 25,
   "metadata": {},
   "outputs": [
    {
     "data": {
      "text/plain": [
       "(1392, 25042)"
      ]
     },
     "execution_count": 25,
     "metadata": {},
     "output_type": "execute_result"
    }
   ],
   "source": [
    "X_bag.shape"
   ]
  },
  {
   "cell_type": "code",
   "execution_count": 26,
   "metadata": {},
   "outputs": [],
   "source": [
    "col = ['Open', 'High', 'Low', 'Close', 'Volume', 'Adj Close']\n",
    "for c in col:\n",
    "    X_bag = np.insert(X_bag, 0, values=X_train[c], axis=1)"
   ]
  },
  {
   "cell_type": "code",
   "execution_count": 27,
   "metadata": {},
   "outputs": [
    {
     "data": {
      "text/plain": [
       "(1392, 25048)"
      ]
     },
     "execution_count": 27,
     "metadata": {},
     "output_type": "execute_result"
    }
   ],
   "source": [
    "X_bag.shape"
   ]
  },
  {
   "cell_type": "markdown",
   "metadata": {},
   "source": [
    "## 3.2 TF-IDF"
   ]
  },
  {
   "cell_type": "code",
   "execution_count": 28,
   "metadata": {},
   "outputs": [],
   "source": [
    "tfidf_vect = TfidfVectorizer(analyzer='word')\n",
    "X_TFIDF = tfidf_vect.fit_transform(X_train.headlines_str).toarray()"
   ]
  },
  {
   "cell_type": "code",
   "execution_count": 29,
   "metadata": {},
   "outputs": [
    {
     "data": {
      "text/plain": [
       "(1392, 25042)"
      ]
     },
     "execution_count": 29,
     "metadata": {},
     "output_type": "execute_result"
    }
   ],
   "source": [
    "X_TFIDF.shape"
   ]
  },
  {
   "cell_type": "code",
   "execution_count": 30,
   "metadata": {},
   "outputs": [],
   "source": [
    "for c in col:\n",
    "    X_TFIDF = np.insert(X_TFIDF, 0, values=X_train[c], axis=1)"
   ]
  },
  {
   "cell_type": "code",
   "execution_count": 31,
   "metadata": {},
   "outputs": [
    {
     "data": {
      "text/plain": [
       "(1392, 25048)"
      ]
     },
     "execution_count": 31,
     "metadata": {},
     "output_type": "execute_result"
    }
   ],
   "source": [
    "X_TFIDF.shape"
   ]
  },
  {
   "cell_type": "markdown",
   "metadata": {},
   "source": [
    "## 3.3 W2V"
   ]
  },
  {
   "cell_type": "code",
   "execution_count": 32,
   "metadata": {},
   "outputs": [],
   "source": [
    "from sklearn.preprocessing import MinMaxScaler\n",
    "scaler = MinMaxScaler()"
   ]
  },
  {
   "cell_type": "code",
   "execution_count": 33,
   "metadata": {},
   "outputs": [],
   "source": [
    "X_w2v = scaler.fit_transform(np.array(list(X_train.word2vec)))"
   ]
  },
  {
   "cell_type": "markdown",
   "metadata": {},
   "source": [
    "## 3.4 情感分析"
   ]
  },
  {
   "cell_type": "code",
   "execution_count": 34,
   "metadata": {},
   "outputs": [
    {
     "data": {
      "text/plain": [
       "Index(['headlines_str', 'headlines_words', 'word2vec', 'Open', 'High', 'Low',\n",
       "       'Close', 'Volume', 'Adj Close', 'Para', 'Subjectivity', 'Objectivity',\n",
       "       'Positive', 'Neutral', 'Negative'],\n",
       "      dtype='object')"
      ]
     },
     "execution_count": 34,
     "metadata": {},
     "output_type": "execute_result"
    }
   ],
   "source": [
    "X_train.columns"
   ]
  },
  {
   "cell_type": "code",
   "execution_count": 35,
   "metadata": {},
   "outputs": [],
   "source": [
    "X_senti = X_train[['Open', 'High', 'Low',\\\n",
    "       'Close', 'Volume', 'Adj Close',\\\n",
    "        'Subjectivity', 'Objectivity',\\\n",
    "       'Positive', 'Neutral', 'Negative']]"
   ]
  },
  {
   "cell_type": "markdown",
   "metadata": {},
   "source": [
    "# 4 特征筛选与模型求解"
   ]
  },
  {
   "cell_type": "markdown",
   "metadata": {},
   "source": [
    "## 4.1 BASELINE与模型选择"
   ]
  },
  {
   "cell_type": "code",
   "execution_count": 36,
   "metadata": {},
   "outputs": [],
   "source": [
    "models = []\n",
    "models.append(('LR' , LogisticRegression()))\n",
    "models.append(('LDA' , LinearDiscriminantAnalysis()))\n",
    "models.append(('KNN' , KNeighborsClassifier()))\n",
    "models.append(('CART' , DecisionTreeClassifier()))\n",
    "models.append(('NB' , GaussianNB()))\n",
    "models.append(('SVM' , SVC()))\n",
    "models.append(('RF' , RandomForestClassifier(n_estimators=50)))\n",
    "models.append(('XGBoost', XGBClassifier()))"
   ]
  },
  {
   "cell_type": "code",
   "execution_count": 37,
   "metadata": {},
   "outputs": [
    {
     "data": {
      "text/plain": [
       "1252"
      ]
     },
     "execution_count": 37,
     "metadata": {},
     "output_type": "execute_result"
    }
   ],
   "source": [
    "int(len(X_train)*0.9)"
   ]
  },
  {
   "cell_type": "code",
   "execution_count": 38,
   "metadata": {},
   "outputs": [],
   "source": [
    "def baseline_model_filter(modellist, X, y):\n",
    "    split_num = int(len(X_train)*0.9)\n",
    "    X_tr, X_va, y_tr, y_va = X[:split_num],X[split_num:],y[:split_num],y[split_num:]\n",
    "    for modelname,model in modellist:\n",
    "        model.fit(X_tr, y_tr) \n",
    "        print(f'{modelname} \\n report:{classification_report(y_va, model.predict(X_va))}')"
   ]
  },
  {
   "cell_type": "markdown",
   "metadata": {},
   "source": [
    "### 4.1.1 词袋"
   ]
  },
  {
   "cell_type": "code",
   "execution_count": 39,
   "metadata": {},
   "outputs": [
    {
     "name": "stderr",
     "output_type": "stream",
     "text": [
      "E:\\download\\anaconda\\download\\lib\\site-packages\\sklearn\\metrics\\_classification.py:1221: UndefinedMetricWarning:\n",
      "\n",
      "Precision and F-score are ill-defined and being set to 0.0 in labels with no predicted samples. Use `zero_division` parameter to control this behavior.\n",
      "\n"
     ]
    },
    {
     "name": "stdout",
     "output_type": "stream",
     "text": [
      "LR \n",
      " report:              precision    recall  f1-score   support\n",
      "\n",
      "           0       0.00      0.00      0.00        69\n",
      "           1       0.51      1.00      0.67        71\n",
      "\n",
      "    accuracy                           0.51       140\n",
      "   macro avg       0.25      0.50      0.34       140\n",
      "weighted avg       0.26      0.51      0.34       140\n",
      "\n",
      "LDA \n",
      " report:              precision    recall  f1-score   support\n",
      "\n",
      "           0       0.39      0.10      0.16        69\n",
      "           1       0.49      0.85      0.62        71\n",
      "\n",
      "    accuracy                           0.48       140\n",
      "   macro avg       0.44      0.47      0.39       140\n",
      "weighted avg       0.44      0.48      0.39       140\n",
      "\n",
      "KNN \n",
      " report:              precision    recall  f1-score   support\n",
      "\n",
      "           0       0.50      0.49      0.50        69\n",
      "           1       0.51      0.52      0.52        71\n",
      "\n",
      "    accuracy                           0.51       140\n",
      "   macro avg       0.51      0.51      0.51       140\n",
      "weighted avg       0.51      0.51      0.51       140\n",
      "\n",
      "CART \n",
      " report:              precision    recall  f1-score   support\n",
      "\n",
      "           0       0.40      0.28      0.33        69\n",
      "           1       0.46      0.61      0.52        71\n",
      "\n",
      "    accuracy                           0.44       140\n",
      "   macro avg       0.43      0.44      0.43       140\n",
      "weighted avg       0.43      0.44      0.43       140\n",
      "\n",
      "NB \n",
      " report:              precision    recall  f1-score   support\n",
      "\n",
      "           0       1.00      0.01      0.03        69\n",
      "           1       0.51      1.00      0.68        71\n",
      "\n",
      "    accuracy                           0.51       140\n",
      "   macro avg       0.76      0.51      0.35       140\n",
      "weighted avg       0.75      0.51      0.36       140\n",
      "\n",
      "SVM \n",
      " report:              precision    recall  f1-score   support\n",
      "\n",
      "           0       0.50      0.01      0.03        69\n",
      "           1       0.51      0.99      0.67        71\n",
      "\n",
      "    accuracy                           0.51       140\n",
      "   macro avg       0.50      0.50      0.35       140\n",
      "weighted avg       0.50      0.51      0.35       140\n",
      "\n",
      "RF \n",
      " report:              precision    recall  f1-score   support\n",
      "\n",
      "           0       0.46      0.17      0.25        69\n",
      "           1       0.50      0.80      0.62        71\n",
      "\n",
      "    accuracy                           0.49       140\n",
      "   macro avg       0.48      0.49      0.43       140\n",
      "weighted avg       0.48      0.49      0.44       140\n",
      "\n"
     ]
    },
    {
     "name": "stderr",
     "output_type": "stream",
     "text": [
      "E:\\download\\anaconda\\download\\lib\\site-packages\\xgboost\\sklearn.py:1224: UserWarning:\n",
      "\n",
      "The use of label encoder in XGBClassifier is deprecated and will be removed in a future release. To remove this warning, do the following: 1) Pass option use_label_encoder=False when constructing XGBClassifier object; and 2) Encode your labels (y) as integers starting with 0, i.e. 0, 1, 2, ..., [num_class - 1].\n",
      "\n"
     ]
    },
    {
     "name": "stdout",
     "output_type": "stream",
     "text": [
      "[14:54:53] WARNING: C:/Users/Administrator/workspace/xgboost-win64_release_1.5.0/src/learner.cc:1115: Starting in XGBoost 1.3.0, the default evaluation metric used with the objective 'binary:logistic' was changed from 'error' to 'logloss'. Explicitly set eval_metric if you'd like to restore the old behavior.\n",
      "XGBoost \n",
      " report:              precision    recall  f1-score   support\n",
      "\n",
      "           0       0.47      0.23      0.31        69\n",
      "           1       0.50      0.75      0.60        71\n",
      "\n",
      "    accuracy                           0.49       140\n",
      "   macro avg       0.49      0.49      0.45       140\n",
      "weighted avg       0.49      0.49      0.46       140\n",
      "\n"
     ]
    }
   ],
   "source": [
    "baseline_model_filter(models,X_bag,y_train)"
   ]
  },
  {
   "cell_type": "markdown",
   "metadata": {},
   "source": [
    "### 4.1.2 TFIDF"
   ]
  },
  {
   "cell_type": "code",
   "execution_count": 40,
   "metadata": {},
   "outputs": [
    {
     "name": "stderr",
     "output_type": "stream",
     "text": [
      "E:\\download\\anaconda\\download\\lib\\site-packages\\sklearn\\metrics\\_classification.py:1221: UndefinedMetricWarning:\n",
      "\n",
      "Precision and F-score are ill-defined and being set to 0.0 in labels with no predicted samples. Use `zero_division` parameter to control this behavior.\n",
      "\n"
     ]
    },
    {
     "name": "stdout",
     "output_type": "stream",
     "text": [
      "LR \n",
      " report:              precision    recall  f1-score   support\n",
      "\n",
      "           0       0.00      0.00      0.00        69\n",
      "           1       0.51      1.00      0.67        71\n",
      "\n",
      "    accuracy                           0.51       140\n",
      "   macro avg       0.25      0.50      0.34       140\n",
      "weighted avg       0.26      0.51      0.34       140\n",
      "\n",
      "LDA \n",
      " report:              precision    recall  f1-score   support\n",
      "\n",
      "           0       0.21      0.04      0.07        69\n",
      "           1       0.48      0.85      0.61        71\n",
      "\n",
      "    accuracy                           0.45       140\n",
      "   macro avg       0.35      0.44      0.34       140\n",
      "weighted avg       0.35      0.45      0.34       140\n",
      "\n",
      "KNN \n",
      " report:              precision    recall  f1-score   support\n",
      "\n",
      "           0       0.50      0.49      0.50        69\n",
      "           1       0.51      0.52      0.52        71\n",
      "\n",
      "    accuracy                           0.51       140\n",
      "   macro avg       0.51      0.51      0.51       140\n",
      "weighted avg       0.51      0.51      0.51       140\n",
      "\n",
      "CART \n",
      " report:              precision    recall  f1-score   support\n",
      "\n",
      "           0       0.48      0.39      0.43        69\n",
      "           1       0.50      0.59      0.54        71\n",
      "\n",
      "    accuracy                           0.49       140\n",
      "   macro avg       0.49      0.49      0.49       140\n",
      "weighted avg       0.49      0.49      0.49       140\n",
      "\n",
      "NB \n",
      " report:              precision    recall  f1-score   support\n",
      "\n",
      "           0       1.00      0.01      0.03        69\n",
      "           1       0.51      1.00      0.68        71\n",
      "\n",
      "    accuracy                           0.51       140\n",
      "   macro avg       0.76      0.51      0.35       140\n",
      "weighted avg       0.75      0.51      0.36       140\n",
      "\n",
      "SVM \n",
      " report:              precision    recall  f1-score   support\n",
      "\n",
      "           0       0.50      0.01      0.03        69\n",
      "           1       0.51      0.99      0.67        71\n",
      "\n",
      "    accuracy                           0.51       140\n",
      "   macro avg       0.50      0.50      0.35       140\n",
      "weighted avg       0.50      0.51      0.35       140\n",
      "\n",
      "RF \n",
      " report:              precision    recall  f1-score   support\n",
      "\n",
      "           0       0.42      0.28      0.33        69\n",
      "           1       0.47      0.63      0.54        71\n",
      "\n",
      "    accuracy                           0.46       140\n",
      "   macro avg       0.45      0.45      0.44       140\n",
      "weighted avg       0.45      0.46      0.44       140\n",
      "\n"
     ]
    },
    {
     "name": "stderr",
     "output_type": "stream",
     "text": [
      "E:\\download\\anaconda\\download\\lib\\site-packages\\xgboost\\sklearn.py:1224: UserWarning:\n",
      "\n",
      "The use of label encoder in XGBClassifier is deprecated and will be removed in a future release. To remove this warning, do the following: 1) Pass option use_label_encoder=False when constructing XGBClassifier object; and 2) Encode your labels (y) as integers starting with 0, i.e. 0, 1, 2, ..., [num_class - 1].\n",
      "\n"
     ]
    },
    {
     "name": "stdout",
     "output_type": "stream",
     "text": [
      "[14:57:37] WARNING: C:/Users/Administrator/workspace/xgboost-win64_release_1.5.0/src/learner.cc:1115: Starting in XGBoost 1.3.0, the default evaluation metric used with the objective 'binary:logistic' was changed from 'error' to 'logloss'. Explicitly set eval_metric if you'd like to restore the old behavior.\n",
      "XGBoost \n",
      " report:              precision    recall  f1-score   support\n",
      "\n",
      "           0       0.45      0.39      0.42        69\n",
      "           1       0.47      0.54      0.50        71\n",
      "\n",
      "    accuracy                           0.46       140\n",
      "   macro avg       0.46      0.46      0.46       140\n",
      "weighted avg       0.46      0.46      0.46       140\n",
      "\n"
     ]
    }
   ],
   "source": [
    "baseline_model_filter(models,X_TFIDF,y_train)"
   ]
  },
  {
   "cell_type": "markdown",
   "metadata": {},
   "source": [
    "### 4.1.3 W2V"
   ]
  },
  {
   "cell_type": "code",
   "execution_count": 41,
   "metadata": {},
   "outputs": [
    {
     "name": "stderr",
     "output_type": "stream",
     "text": [
      "E:\\download\\anaconda\\download\\lib\\site-packages\\sklearn\\linear_model\\_logistic.py:762: ConvergenceWarning:\n",
      "\n",
      "lbfgs failed to converge (status=1):\n",
      "STOP: TOTAL NO. of ITERATIONS REACHED LIMIT.\n",
      "\n",
      "Increase the number of iterations (max_iter) or scale the data as shown in:\n",
      "    https://scikit-learn.org/stable/modules/preprocessing.html\n",
      "Please also refer to the documentation for alternative solver options:\n",
      "    https://scikit-learn.org/stable/modules/linear_model.html#logistic-regression\n",
      "\n"
     ]
    },
    {
     "name": "stdout",
     "output_type": "stream",
     "text": [
      "LR \n",
      " report:              precision    recall  f1-score   support\n",
      "\n",
      "           0       0.55      0.45      0.50        69\n",
      "           1       0.55      0.65      0.59        71\n",
      "\n",
      "    accuracy                           0.55       140\n",
      "   macro avg       0.55      0.55      0.54       140\n",
      "weighted avg       0.55      0.55      0.55       140\n",
      "\n",
      "LDA \n",
      " report:              precision    recall  f1-score   support\n",
      "\n",
      "           0       0.57      0.48      0.52        69\n",
      "           1       0.56      0.65      0.60        71\n",
      "\n",
      "    accuracy                           0.56       140\n",
      "   macro avg       0.56      0.56      0.56       140\n",
      "weighted avg       0.56      0.56      0.56       140\n",
      "\n",
      "KNN \n",
      " report:              precision    recall  f1-score   support\n",
      "\n",
      "           0       0.55      0.42      0.48        69\n",
      "           1       0.54      0.66      0.59        71\n",
      "\n",
      "    accuracy                           0.54       140\n",
      "   macro avg       0.54      0.54      0.54       140\n",
      "weighted avg       0.54      0.54      0.54       140\n",
      "\n",
      "CART \n",
      " report:              precision    recall  f1-score   support\n",
      "\n",
      "           0       0.49      0.48      0.49        69\n",
      "           1       0.51      0.52      0.51        71\n",
      "\n",
      "    accuracy                           0.50       140\n",
      "   macro avg       0.50      0.50      0.50       140\n",
      "weighted avg       0.50      0.50      0.50       140\n",
      "\n",
      "NB \n",
      " report:              precision    recall  f1-score   support\n",
      "\n",
      "           0       0.40      0.17      0.24        69\n",
      "           1       0.48      0.75      0.59        71\n",
      "\n",
      "    accuracy                           0.46       140\n",
      "   macro avg       0.44      0.46      0.41       140\n",
      "weighted avg       0.44      0.46      0.42       140\n",
      "\n",
      "SVM \n",
      " report:              precision    recall  f1-score   support\n",
      "\n",
      "           0       0.59      0.25      0.35        69\n",
      "           1       0.53      0.83      0.65        71\n",
      "\n",
      "    accuracy                           0.54       140\n",
      "   macro avg       0.56      0.54      0.50       140\n",
      "weighted avg       0.56      0.54      0.50       140\n",
      "\n",
      "RF \n",
      " report:              precision    recall  f1-score   support\n",
      "\n",
      "           0       0.55      0.39      0.46        69\n",
      "           1       0.54      0.69      0.60        71\n",
      "\n",
      "    accuracy                           0.54       140\n",
      "   macro avg       0.54      0.54      0.53       140\n",
      "weighted avg       0.54      0.54      0.53       140\n",
      "\n",
      "[14:58:30] WARNING: C:/Users/Administrator/workspace/xgboost-win64_release_1.5.0/src/learner.cc:1115: Starting in XGBoost 1.3.0, the default evaluation metric used with the objective 'binary:logistic' was changed from 'error' to 'logloss'. Explicitly set eval_metric if you'd like to restore the old behavior.\n"
     ]
    },
    {
     "name": "stderr",
     "output_type": "stream",
     "text": [
      "E:\\download\\anaconda\\download\\lib\\site-packages\\xgboost\\sklearn.py:1224: UserWarning:\n",
      "\n",
      "The use of label encoder in XGBClassifier is deprecated and will be removed in a future release. To remove this warning, do the following: 1) Pass option use_label_encoder=False when constructing XGBClassifier object; and 2) Encode your labels (y) as integers starting with 0, i.e. 0, 1, 2, ..., [num_class - 1].\n",
      "\n"
     ]
    },
    {
     "name": "stdout",
     "output_type": "stream",
     "text": [
      "XGBoost \n",
      " report:              precision    recall  f1-score   support\n",
      "\n",
      "           0       0.51      0.39      0.44        69\n",
      "           1       0.52      0.63      0.57        71\n",
      "\n",
      "    accuracy                           0.51       140\n",
      "   macro avg       0.51      0.51      0.51       140\n",
      "weighted avg       0.51      0.51      0.51       140\n",
      "\n"
     ]
    }
   ],
   "source": [
    "baseline_model_filter(models,X_w2v,y_train)"
   ]
  },
  {
   "cell_type": "markdown",
   "metadata": {},
   "source": [
    "### 4.1.4 情感分析"
   ]
  },
  {
   "cell_type": "code",
   "execution_count": 42,
   "metadata": {},
   "outputs": [
    {
     "name": "stdout",
     "output_type": "stream",
     "text": [
      "LR \n",
      " report:              precision    recall  f1-score   support\n",
      "\n",
      "           0       0.00      0.00      0.00        69\n",
      "           1       0.51      1.00      0.67        71\n",
      "\n",
      "    accuracy                           0.51       140\n",
      "   macro avg       0.25      0.50      0.34       140\n",
      "weighted avg       0.26      0.51      0.34       140\n",
      "\n",
      "LDA \n",
      " report:              precision    recall  f1-score   support\n",
      "\n",
      "           0       1.00      0.83      0.90        69\n",
      "           1       0.86      1.00      0.92        71\n",
      "\n",
      "    accuracy                           0.91       140\n",
      "   macro avg       0.93      0.91      0.91       140\n",
      "weighted avg       0.93      0.91      0.91       140\n",
      "\n",
      "KNN \n",
      " report:              precision    recall  f1-score   support\n",
      "\n",
      "           0       0.50      0.49      0.50        69\n",
      "           1       0.51      0.52      0.52        71\n",
      "\n",
      "    accuracy                           0.51       140\n",
      "   macro avg       0.51      0.51      0.51       140\n",
      "weighted avg       0.51      0.51      0.51       140\n"
     ]
    },
    {
     "name": "stderr",
     "output_type": "stream",
     "text": [
      "E:\\download\\anaconda\\download\\lib\\site-packages\\sklearn\\metrics\\_classification.py:1221: UndefinedMetricWarning:\n",
      "\n",
      "Precision and F-score are ill-defined and being set to 0.0 in labels with no predicted samples. Use `zero_division` parameter to control this behavior.\n",
      "\n"
     ]
    },
    {
     "name": "stdout",
     "output_type": "stream",
     "text": [
      "\n",
      "CART \n",
      " report:              precision    recall  f1-score   support\n",
      "\n",
      "           0       0.59      0.58      0.58        69\n",
      "           1       0.60      0.61      0.60        71\n",
      "\n",
      "    accuracy                           0.59       140\n",
      "   macro avg       0.59      0.59      0.59       140\n",
      "weighted avg       0.59      0.59      0.59       140\n",
      "\n",
      "NB \n",
      " report:              precision    recall  f1-score   support\n",
      "\n",
      "           0       1.00      0.01      0.03        69\n",
      "           1       0.51      1.00      0.68        71\n",
      "\n",
      "    accuracy                           0.51       140\n",
      "   macro avg       0.76      0.51      0.35       140\n",
      "weighted avg       0.75      0.51      0.36       140\n",
      "\n",
      "SVM \n",
      " report:              precision    recall  f1-score   support\n",
      "\n",
      "           0       0.50      0.01      0.03        69\n",
      "           1       0.51      0.99      0.67        71\n",
      "\n",
      "    accuracy                           0.51       140\n",
      "   macro avg       0.50      0.50      0.35       140\n",
      "weighted avg       0.50      0.51      0.35       140\n",
      "\n",
      "RF \n",
      " report:              precision    recall  f1-score   support\n",
      "\n",
      "           0       0.58      0.61      0.59        69\n",
      "           1       0.60      0.56      0.58        71\n",
      "\n",
      "    accuracy                           0.59       140\n",
      "   macro avg       0.59      0.59      0.59       140\n",
      "weighted avg       0.59      0.59      0.59       140\n",
      "\n",
      "[14:58:35] WARNING: C:/Users/Administrator/workspace/xgboost-win64_release_1.5.0/src/learner.cc:1115: Starting in XGBoost 1.3.0, the default evaluation metric used with the objective 'binary:logistic' was changed from 'error' to 'logloss'. Explicitly set eval_metric if you'd like to restore the old behavior.\n"
     ]
    },
    {
     "name": "stderr",
     "output_type": "stream",
     "text": [
      "E:\\download\\anaconda\\download\\lib\\site-packages\\xgboost\\sklearn.py:1224: UserWarning:\n",
      "\n",
      "The use of label encoder in XGBClassifier is deprecated and will be removed in a future release. To remove this warning, do the following: 1) Pass option use_label_encoder=False when constructing XGBClassifier object; and 2) Encode your labels (y) as integers starting with 0, i.e. 0, 1, 2, ..., [num_class - 1].\n",
      "\n"
     ]
    },
    {
     "name": "stdout",
     "output_type": "stream",
     "text": [
      "XGBoost \n",
      " report:              precision    recall  f1-score   support\n",
      "\n",
      "           0       0.54      0.46      0.50        69\n",
      "           1       0.54      0.62      0.58        71\n",
      "\n",
      "    accuracy                           0.54       140\n",
      "   macro avg       0.54      0.54      0.54       140\n",
      "weighted avg       0.54      0.54      0.54       140\n",
      "\n"
     ]
    }
   ],
   "source": [
    "baseline_model_filter(models,X_senti,y_train)"
   ]
  },
  {
   "cell_type": "code",
   "execution_count": null,
   "metadata": {},
   "outputs": [],
   "source": []
  }
 ],
 "metadata": {
  "kernelspec": {
   "display_name": "Python 3",
   "language": "python",
   "name": "python3"
  },
  "language_info": {
   "codemirror_mode": {
    "name": "ipython",
    "version": 3
   },
   "file_extension": ".py",
   "mimetype": "text/x-python",
   "name": "python",
   "nbconvert_exporter": "python",
   "pygments_lexer": "ipython3",
   "version": "3.8.5"
  }
 },
 "nbformat": 4,
 "nbformat_minor": 4
}
